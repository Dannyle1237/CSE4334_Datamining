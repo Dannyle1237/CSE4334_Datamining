{
 "cells": [
  {
   "cell_type": "markdown",
   "id": "a48b00fe",
   "metadata": {},
   "source": [
    "## INSTRUCTIONS \n",
    "\n",
    "Every learner should submit his/her own homework solutions. However, you are allowed to discuss the homework with each other– but everyone must submit his/her own solution; you may not copy someone else’s solution. \n",
    "\n",
    "The homework consists of one part:\n",
    "\n",
    "1.  Variable selection\n",
    "\n",
    "Follow the prompts in the attached jupyter notebook. Download the data and place it in your working directory, or modify the path to upload it to your notebook. Add markdown cells to your analysis to include your solutions, comments, answers. **Add as many cells as you need**, for easy readability comment when possible.\n",
    "Hopefully this homework will help you develop skills, make you understand the flow of an EDA, get you ready for individual work.\n",
    "\n",
    "Submission: Send in both a ipynb and a html file of your work. \n",
    "\n",
    "Good luck!\n"
   ]
  },
  {
   "cell_type": "markdown",
   "id": "9e2d9715",
   "metadata": {},
   "source": [
    "# 1. Variable selection"
   ]
  },
  {
   "cell_type": "markdown",
   "id": "d3f2550f",
   "metadata": {},
   "source": [
    "In our class we covered three types of feature selection techniques. They were: \n",
    "1. Filter methods\n",
    "2. Wrapper methods\n",
    "3. Embedded methods"
   ]
  },
  {
   "attachments": {
    "image.png": {
     "image/png": "[encoded data removed]"
    }
   },
   "cell_type": "markdown",
   "id": "48b02d12",
   "metadata": {},
   "source": [
    "Continue using the dataset 'auto_imports1.csv' from the previous homework. More specifically, use the version you created called **df2** where you already cleaned, dropped some of the variables and also created the dummy variables: you can save your created with df2.to_csv(), or you can rerun your code here. I've also attached in the homework files a df2.csv that contains the cleaned up dataset, but you still have to create the dummy variables (df2 = pd.get_dummies(df2, columns=['fuel_type'],drop_first=True). See the code bellow.\n",
    "\n",
    "Make sure that you import the needed libraries (you can find examples on canvas).\n",
    "\n",
    "Remember to compare your results. You can make up a table to keep track of your chosen variables (like the one bellow)\n",
    "\n",
    "\n",
    "![image.png](attachment:image.png)\n",
    "\n"
   ]
  },
  {
   "cell_type": "markdown",
   "id": "26855a3f",
   "metadata": {},
   "source": [
    "**Title: 1985 Auto Imports Database**\n",
    "\n",
    "Relevant Information:\n",
    "   -- Description\n",
    "      This data set consists of three types of entities: (a) the\n",
    "      specification of an auto in terms of various characteristics, (b)\n",
    "      its assigned insurance risk rating, (c) its normalized losses in use\n",
    "      as compared to other cars.  The second rating corresponds to the\n",
    "      degree to which the auto is more risky than its price indicates.\n",
    "      Cars are initially assigned a risk factor symbol associated with its\n",
    "      price.   Then, if it is more risky (or less), this symbol is\n",
    "      adjusted by moving it up (or down) the scale.  Actuarians call this\n",
    "      process \"symboling\".  A value of +3 indicates that the auto is\n",
    "      risky, -3 that it is probably pretty safe.\n",
    "\n",
    "      The third factor is the relative average loss payment per insured\n",
    "      vehicle year.  This value is normalized for all autos within a\n",
    "      particular size classification (two-door small, station wagons,\n",
    "      sports/speciality, etc...), and represents the average loss per car\n",
    "      per year.\n",
    "\n",
    "   -- Note: Several of the attributes in the database could be used as a\n",
    "            \"class\" attribute.\n",
    "\n",
    "5. Number of Instances: 205\n",
    "\n",
    "6. Number of Attributes: 26 total\n",
    "   -- 15 continuous\n",
    "   -- 1 integer\n",
    "   -- 10 nominal\n",
    "\n",
    "7. Attribute Information:     \n",
    "     Attribute:                Attribute Range:\n",
    "     ------------------        -----------------------------------------------\n",
    "  1. symboling:                -3, -2, -1, 0, 1, 2, 3.\n",
    "  2. normalized-losses:        continuous from 65 to 256.\n",
    "  3. make:                     alfa-romero, audi, bmw, chevrolet, dodge, honda,isuzu, jaguar, mazda, mercedes-benz, mercury, mitsubishi, nissan, peugot, plymouth, porsche, renault, saab, subaru, toyota,volkswagen, volvo\n",
    "  4. fuel-type:                diesel, gas.\n",
    "  5. aspiration:               std, turbo.\n",
    "  6. num-of-doors:             four, two.\n",
    "  7. body-style:               hardtop, wagon, sedan, hatchback, convertible.\n",
    "  8. drive-wheels:             4wd, fwd, rwd.\n",
    "  9. engine-location:          front, rear.\n",
    " 10. wheel-base:               continuous from 86.6 120.9.\n",
    " 11. length:                   continuous from 141.1 to 208.1.\n",
    " 12. width:                    continuous from 60.3 to 72.3.\n",
    " 13. height:                   continuous from 47.8 to 59.8.\n",
    " 14. curb-weight:              continuous from 1488 to 4066.\n",
    " 15. engine-type:              dohc, dohcv, l, ohc, ohcf, ohcv, rotor.\n",
    " 16. num-of-cylinders:         eight, five, four, six, three, twelve, two.\n",
    " 17. engine-size:              continuous from 61 to 326.\n",
    " 18. fuel-system:              1bbl, 2bbl, 4bbl, idi, mfi, mpfi, spdi, spfi.\n",
    " 19. bore:                     continuous from 2.54 to 3.94.\n",
    " 20. stroke:                   continuous from 2.07 to 4.17.\n",
    " 21. compression-ratio:        continuous from 7 to 23.\n",
    " 22. horsepower:               continuous from 48 to 288.\n",
    " 23. peak-rpm:                 continuous from 4150 to 6600.\n",
    " 24. city-mpg:                 continuous from 13 to 49.\n",
    " 25. highway-mpg:              continuous from 16 to 54.\n",
    " 26. price:                    continuous from 5118 to 45400.\n",
    "\n",
    "8. Missing Attribute Values: (denoted by \"?\")"
   ]
  },
  {
   "cell_type": "code",
   "execution_count": 40,
   "id": "cd0f90ba",
   "metadata": {},
   "outputs": [],
   "source": [
    "from scipy import stats\n",
    "from sklearn.linear_model import LinearRegression\n",
    "from statsmodels.compat import lzip\n",
    "from statsmodels.formula.api import ols\n",
    "from statsmodels.stats.anova import anova_lm\n",
    "from statsmodels.stats.outliers_influence import variance_inflation_factor\n",
    "import matplotlib\n",
    "import matplotlib.pyplot as plt\n",
    "import numpy as np\n",
    "import pandas as pd\n",
    "import seaborn as sns\n",
    "import statsmodels.api as sm\n",
    "\n",
    "%matplotlib inline"
   ]
  },
  {
   "cell_type": "code",
   "execution_count": 41,
   "id": "6b9fa984",
   "metadata": {},
   "outputs": [
    {
     "data": {
      "text/html": [
       "<div>\n",
       "<style scoped>\n",
       "    .dataframe tbody tr th:only-of-type {\n",
       "        vertical-align: middle;\n",
       "    }\n",
       "\n",
       "    .dataframe tbody tr th {\n",
       "        vertical-align: top;\n",
       "    }\n",
       "\n",
       "    .dataframe thead th {\n",
       "        text-align: right;\n",
       "    }\n",
       "</style>\n",
       "<table border=\"1\" class=\"dataframe\">\n",
       "  <thead>\n",
       "    <tr style=\"text-align: right;\">\n",
       "      <th></th>\n",
       "      <th>fuel_type</th>\n",
       "      <th>wheel_base</th>\n",
       "      <th>length</th>\n",
       "      <th>width</th>\n",
       "      <th>heights</th>\n",
       "      <th>curb_weight</th>\n",
       "      <th>engine_size</th>\n",
       "      <th>bore</th>\n",
       "      <th>stroke</th>\n",
       "      <th>comprassion</th>\n",
       "      <th>horse_power</th>\n",
       "      <th>peak_rpm</th>\n",
       "      <th>city_mpg</th>\n",
       "      <th>highway_mpg</th>\n",
       "      <th>price</th>\n",
       "    </tr>\n",
       "  </thead>\n",
       "  <tbody>\n",
       "    <tr>\n",
       "      <th>0</th>\n",
       "      <td>gas</td>\n",
       "      <td>88.6</td>\n",
       "      <td>168.8</td>\n",
       "      <td>64.1</td>\n",
       "      <td>48.8</td>\n",
       "      <td>2548</td>\n",
       "      <td>130</td>\n",
       "      <td>3.47</td>\n",
       "      <td>2.68</td>\n",
       "      <td>9.0</td>\n",
       "      <td>111</td>\n",
       "      <td>5000</td>\n",
       "      <td>21</td>\n",
       "      <td>27</td>\n",
       "      <td>13495</td>\n",
       "    </tr>\n",
       "    <tr>\n",
       "      <th>1</th>\n",
       "      <td>gas</td>\n",
       "      <td>88.6</td>\n",
       "      <td>168.8</td>\n",
       "      <td>64.1</td>\n",
       "      <td>48.8</td>\n",
       "      <td>2548</td>\n",
       "      <td>130</td>\n",
       "      <td>3.47</td>\n",
       "      <td>2.68</td>\n",
       "      <td>9.0</td>\n",
       "      <td>111</td>\n",
       "      <td>5000</td>\n",
       "      <td>21</td>\n",
       "      <td>27</td>\n",
       "      <td>16500</td>\n",
       "    </tr>\n",
       "    <tr>\n",
       "      <th>2</th>\n",
       "      <td>gas</td>\n",
       "      <td>94.5</td>\n",
       "      <td>171.2</td>\n",
       "      <td>65.5</td>\n",
       "      <td>52.4</td>\n",
       "      <td>2823</td>\n",
       "      <td>152</td>\n",
       "      <td>2.68</td>\n",
       "      <td>3.47</td>\n",
       "      <td>9.0</td>\n",
       "      <td>154</td>\n",
       "      <td>5000</td>\n",
       "      <td>19</td>\n",
       "      <td>26</td>\n",
       "      <td>16500</td>\n",
       "    </tr>\n",
       "    <tr>\n",
       "      <th>3</th>\n",
       "      <td>gas</td>\n",
       "      <td>99.8</td>\n",
       "      <td>176.6</td>\n",
       "      <td>66.2</td>\n",
       "      <td>54.3</td>\n",
       "      <td>2337</td>\n",
       "      <td>109</td>\n",
       "      <td>3.19</td>\n",
       "      <td>3.40</td>\n",
       "      <td>10.0</td>\n",
       "      <td>102</td>\n",
       "      <td>5500</td>\n",
       "      <td>24</td>\n",
       "      <td>30</td>\n",
       "      <td>13950</td>\n",
       "    </tr>\n",
       "    <tr>\n",
       "      <th>4</th>\n",
       "      <td>gas</td>\n",
       "      <td>99.4</td>\n",
       "      <td>176.6</td>\n",
       "      <td>66.4</td>\n",
       "      <td>54.3</td>\n",
       "      <td>2824</td>\n",
       "      <td>136</td>\n",
       "      <td>3.19</td>\n",
       "      <td>3.40</td>\n",
       "      <td>8.0</td>\n",
       "      <td>115</td>\n",
       "      <td>5500</td>\n",
       "      <td>18</td>\n",
       "      <td>22</td>\n",
       "      <td>17450</td>\n",
       "    </tr>\n",
       "  </tbody>\n",
       "</table>\n",
       "</div>"
      ],
      "text/plain": [
       "  fuel_type  wheel_base  length  width  heights  curb_weight  engine_size  \\\n",
       "0       gas        88.6   168.8   64.1     48.8         2548          130   \n",
       "1       gas        88.6   168.8   64.1     48.8         2548          130   \n",
       "2       gas        94.5   171.2   65.5     52.4         2823          152   \n",
       "3       gas        99.8   176.6   66.2     54.3         2337          109   \n",
       "4       gas        99.4   176.6   66.4     54.3         2824          136   \n",
       "\n",
       "   bore  stroke  comprassion  horse_power  peak_rpm  city_mpg  highway_mpg  \\\n",
       "0  3.47    2.68          9.0          111      5000        21           27   \n",
       "1  3.47    2.68          9.0          111      5000        21           27   \n",
       "2  2.68    3.47          9.0          154      5000        19           26   \n",
       "3  3.19    3.40         10.0          102      5500        24           30   \n",
       "4  3.19    3.40          8.0          115      5500        18           22   \n",
       "\n",
       "   price  \n",
       "0  13495  \n",
       "1  16500  \n",
       "2  16500  \n",
       "3  13950  \n",
       "4  17450  "
      ]
     },
     "execution_count": 41,
     "metadata": {},
     "output_type": "execute_result"
    }
   ],
   "source": [
    "#Read in data (make sure that you put it into your working directory)\n",
    "df2 =pd.read_csv('df2.csv')\n",
    "\n",
    "df2.head()"
   ]
  },
  {
   "cell_type": "markdown",
   "id": "50bdcbb1",
   "metadata": {},
   "source": [
    "### Get dummy variables for fuel_type within df2 drop first level"
   ]
  },
  {
   "cell_type": "code",
   "execution_count": 42,
   "id": "dae93093",
   "metadata": {},
   "outputs": [],
   "source": [
    "## Your code goes here\n",
    "df2 = pd.get_dummies(df2, columns=['fuel_type'],drop_first=True)\n"
   ]
  },
  {
   "cell_type": "code",
   "execution_count": 43,
   "id": "f4ffffcc",
   "metadata": {},
   "outputs": [
    {
     "data": {
      "text/html": [
       "<div>\n",
       "<style scoped>\n",
       "    .dataframe tbody tr th:only-of-type {\n",
       "        vertical-align: middle;\n",
       "    }\n",
       "\n",
       "    .dataframe tbody tr th {\n",
       "        vertical-align: top;\n",
       "    }\n",
       "\n",
       "    .dataframe thead th {\n",
       "        text-align: right;\n",
       "    }\n",
       "</style>\n",
       "<table border=\"1\" class=\"dataframe\">\n",
       "  <thead>\n",
       "    <tr style=\"text-align: right;\">\n",
       "      <th></th>\n",
       "      <th>wheel_base</th>\n",
       "      <th>length</th>\n",
       "      <th>width</th>\n",
       "      <th>heights</th>\n",
       "      <th>curb_weight</th>\n",
       "      <th>engine_size</th>\n",
       "      <th>bore</th>\n",
       "      <th>stroke</th>\n",
       "      <th>comprassion</th>\n",
       "      <th>horse_power</th>\n",
       "      <th>peak_rpm</th>\n",
       "      <th>city_mpg</th>\n",
       "      <th>highway_mpg</th>\n",
       "      <th>price</th>\n",
       "      <th>fuel_type_gas</th>\n",
       "    </tr>\n",
       "  </thead>\n",
       "  <tbody>\n",
       "    <tr>\n",
       "      <th>0</th>\n",
       "      <td>88.6</td>\n",
       "      <td>168.8</td>\n",
       "      <td>64.1</td>\n",
       "      <td>48.8</td>\n",
       "      <td>2548</td>\n",
       "      <td>130</td>\n",
       "      <td>3.47</td>\n",
       "      <td>2.68</td>\n",
       "      <td>9.0</td>\n",
       "      <td>111</td>\n",
       "      <td>5000</td>\n",
       "      <td>21</td>\n",
       "      <td>27</td>\n",
       "      <td>13495</td>\n",
       "      <td>1</td>\n",
       "    </tr>\n",
       "    <tr>\n",
       "      <th>1</th>\n",
       "      <td>88.6</td>\n",
       "      <td>168.8</td>\n",
       "      <td>64.1</td>\n",
       "      <td>48.8</td>\n",
       "      <td>2548</td>\n",
       "      <td>130</td>\n",
       "      <td>3.47</td>\n",
       "      <td>2.68</td>\n",
       "      <td>9.0</td>\n",
       "      <td>111</td>\n",
       "      <td>5000</td>\n",
       "      <td>21</td>\n",
       "      <td>27</td>\n",
       "      <td>16500</td>\n",
       "      <td>1</td>\n",
       "    </tr>\n",
       "    <tr>\n",
       "      <th>2</th>\n",
       "      <td>94.5</td>\n",
       "      <td>171.2</td>\n",
       "      <td>65.5</td>\n",
       "      <td>52.4</td>\n",
       "      <td>2823</td>\n",
       "      <td>152</td>\n",
       "      <td>2.68</td>\n",
       "      <td>3.47</td>\n",
       "      <td>9.0</td>\n",
       "      <td>154</td>\n",
       "      <td>5000</td>\n",
       "      <td>19</td>\n",
       "      <td>26</td>\n",
       "      <td>16500</td>\n",
       "      <td>1</td>\n",
       "    </tr>\n",
       "    <tr>\n",
       "      <th>3</th>\n",
       "      <td>99.8</td>\n",
       "      <td>176.6</td>\n",
       "      <td>66.2</td>\n",
       "      <td>54.3</td>\n",
       "      <td>2337</td>\n",
       "      <td>109</td>\n",
       "      <td>3.19</td>\n",
       "      <td>3.40</td>\n",
       "      <td>10.0</td>\n",
       "      <td>102</td>\n",
       "      <td>5500</td>\n",
       "      <td>24</td>\n",
       "      <td>30</td>\n",
       "      <td>13950</td>\n",
       "      <td>1</td>\n",
       "    </tr>\n",
       "    <tr>\n",
       "      <th>4</th>\n",
       "      <td>99.4</td>\n",
       "      <td>176.6</td>\n",
       "      <td>66.4</td>\n",
       "      <td>54.3</td>\n",
       "      <td>2824</td>\n",
       "      <td>136</td>\n",
       "      <td>3.19</td>\n",
       "      <td>3.40</td>\n",
       "      <td>8.0</td>\n",
       "      <td>115</td>\n",
       "      <td>5500</td>\n",
       "      <td>18</td>\n",
       "      <td>22</td>\n",
       "      <td>17450</td>\n",
       "      <td>1</td>\n",
       "    </tr>\n",
       "  </tbody>\n",
       "</table>\n",
       "</div>"
      ],
      "text/plain": [
       "   wheel_base  length  width  heights  curb_weight  engine_size  bore  stroke  \\\n",
       "0        88.6   168.8   64.1     48.8         2548          130  3.47    2.68   \n",
       "1        88.6   168.8   64.1     48.8         2548          130  3.47    2.68   \n",
       "2        94.5   171.2   65.5     52.4         2823          152  2.68    3.47   \n",
       "3        99.8   176.6   66.2     54.3         2337          109  3.19    3.40   \n",
       "4        99.4   176.6   66.4     54.3         2824          136  3.19    3.40   \n",
       "\n",
       "   comprassion  horse_power  peak_rpm  city_mpg  highway_mpg  price  \\\n",
       "0          9.0          111      5000        21           27  13495   \n",
       "1          9.0          111      5000        21           27  16500   \n",
       "2          9.0          154      5000        19           26  16500   \n",
       "3         10.0          102      5500        24           30  13950   \n",
       "4          8.0          115      5500        18           22  17450   \n",
       "\n",
       "   fuel_type_gas  \n",
       "0              1  \n",
       "1              1  \n",
       "2              1  \n",
       "3              1  \n",
       "4              1  "
      ]
     },
     "execution_count": 43,
     "metadata": {},
     "output_type": "execute_result"
    }
   ],
   "source": [
    "df2.head()\n"
   ]
  },
  {
   "cell_type": "code",
   "execution_count": 44,
   "id": "13158722",
   "metadata": {},
   "outputs": [
    {
     "data": {
      "text/plain": [
       "(195, 15)"
      ]
     },
     "execution_count": 44,
     "metadata": {},
     "output_type": "execute_result"
    }
   ],
   "source": [
    "df2.shape"
   ]
  },
  {
   "cell_type": "markdown",
   "id": "597f2405",
   "metadata": {},
   "source": [
    "### 1.1. Filtered methods\n",
    "\n",
    "Choose one (you may do more, one is required) of the filtered methods to conduct variable selection. Report your findigs"
   ]
  },
  {
   "cell_type": "code",
   "execution_count": 45,
   "id": "f912af99",
   "metadata": {},
   "outputs": [
    {
     "name": "stdout",
     "output_type": "stream",
     "text": [
      "Original number of features: 14\n",
      "Reduced number of features: 2\n"
     ]
    }
   ],
   "source": [
    "from sklearn.feature_selection import SelectKBest\n",
    "from sklearn.feature_selection import chi2, f_regression\n",
    "from numpy import array \n",
    "\n",
    "X = df2.iloc[:, :-1]\n",
    "y = df2.iloc[:, -1]\n",
    "select = SelectKBest(chi2, k=2)\n",
    "z = select.fit_transform(X,y)\n",
    "# View results\n",
    "print('Original number of features:', X.shape[1])\n",
    "print('Reduced number of features:', z.shape[1])"
   ]
  },
  {
   "cell_type": "code",
   "execution_count": 46,
   "id": "1423056b",
   "metadata": {},
   "outputs": [
    {
     "name": "stdout",
     "output_type": "stream",
     "text": [
      "All features:\n",
      "['wheel_base' 'length' 'width' 'heights' 'curb_weight' 'engine_size'\n",
      " 'bore' 'stroke' 'comprassion' 'horse_power' 'peak_rpm' 'city_mpg'\n",
      " 'highway_mpg' 'price']\n",
      "Selected best 2:\n",
      "['peak_rpm' 'price']\n"
     ]
    }
   ],
   "source": [
    "filter = select.get_support()\n",
    "\n",
    "print(\"All features:\")\n",
    "print(features)\n",
    " \n",
    "print(\"Selected best 2:\")\n",
    "print(features[filter])\n"
   ]
  },
  {
   "cell_type": "code",
   "execution_count": 47,
   "id": "9392f38b",
   "metadata": {},
   "outputs": [],
   "source": [
    "#Now we know after doing chi-squared test between each feature and price, peak_rpm and price are best selected"
   ]
  },
  {
   "cell_type": "markdown",
   "id": "2af92432",
   "metadata": {},
   "source": [
    "### 1.2. Wrapper methods\n",
    "\n",
    "Choose one (you may do more, one is required) of the wrapper methods to conduct variable selection. Report your findigs."
   ]
  },
  {
   "cell_type": "code",
   "execution_count": 48,
   "id": "3480d70c",
   "metadata": {},
   "outputs": [
    {
     "name": "stdout",
     "output_type": "stream",
     "text": [
      "Features selected: ('comprassion', 'highway_mpg')\n"
     ]
    }
   ],
   "source": [
    "#Foward Selection to find 2 best features\n",
    "from mlxtend.feature_selection import SequentialFeatureSelector as SFS\n",
    "\n",
    "sfs = SFS(LinearRegression(),\n",
    "          k_features=2,\n",
    "          forward=True,\n",
    "          floating=False,\n",
    "          scoring = 'r2',\n",
    "          cv = 0)\n",
    "sfs.fit(X,y)\n",
    "\n",
    "print(\"Features selected: \" + str(sfs.k_feature_names_))"
   ]
  },
  {
   "cell_type": "code",
   "execution_count": 49,
   "id": "388bb52c",
   "metadata": {},
   "outputs": [],
   "source": [
    "#Doing foward selection on our data, we select comprassion and highway_mpg "
   ]
  },
  {
   "cell_type": "markdown",
   "id": "c2fca0ec",
   "metadata": {},
   "source": [
    "### 1.3. Embedded methods\n",
    "\n",
    "Choose one (you may do more, one is required) of the embedded methods to conduct variable selection.Report your findigs.\n",
    "<font color='red'> REMEMBER: only LASSO and Elastic Net does variable selection. Ridge only shrinks some of the coefficents but does not make them go away.</font>"
   ]
  },
  {
   "cell_type": "code",
   "execution_count": 50,
   "id": "26ebfaf2",
   "metadata": {},
   "outputs": [
    {
     "name": "stdout",
     "output_type": "stream",
     "text": [
      "Train data shape of X = (146, 14) and Y = (146,) : \n",
      "Test data shape of X = (49, 14) and Y = (49,) : \n"
     ]
    }
   ],
   "source": [
    "from sklearn.model_selection import train_test_split\n",
    "x_train, x_test, y_train, y_test = train_test_split(\n",
    "    df2.iloc[:, :-1], df2.iloc[:, -1],\n",
    "    test_size = 0.25)\n",
    "\n",
    "print(\"Train data shape of X = % s and Y = % s : \"%(\n",
    "    x_train.shape, y_train.shape))\n",
    " \n",
    "print(\"Test data shape of X = % s and Y = % s : \"%(\n",
    "    x_test.shape, y_test.shape))"
   ]
  },
  {
   "cell_type": "code",
   "execution_count": 51,
   "id": "f52d5466",
   "metadata": {},
   "outputs": [
    {
     "name": "stdout",
     "output_type": "stream",
     "text": [
      "Mean squared Error on test set :  0.00208580598104953\n",
      "        Columns  Coefficient Estimate\n",
      "0    wheel_base             -0.002682\n",
      "1        length              0.002258\n",
      "2         width              0.001040\n",
      "3       heights              0.000954\n",
      "4   curb_weight             -0.000048\n",
      "5   engine_size              0.000888\n",
      "6          bore             -0.025557\n",
      "7        stroke             -0.060102\n",
      "8   comprassion             -0.072619\n",
      "9   horse_power             -0.000057\n",
      "10     peak_rpm              0.000039\n",
      "11     city_mpg              0.000684\n",
      "12  highway_mpg              0.003410\n",
      "13        price             -0.000001\n"
     ]
    }
   ],
   "source": [
    "# Apply multiple Linear Regression Model\n",
    "lreg = LinearRegression()\n",
    "lreg.fit(x_train, y_train)\n",
    " \n",
    "# Generate Prediction on test set\n",
    "lreg_y_pred = lreg.predict(x_test)\n",
    " \n",
    "# calculating Mean Squared Error (mse)\n",
    "mean_squared_error = np.mean((lreg_y_pred - y_test)**2)\n",
    "print(\"Mean squared Error on test set : \", mean_squared_error)\n",
    " \n",
    "# Putting together the coefficient and their corresponding variable names\n",
    "lreg_coefficient = pd.DataFrame()\n",
    "lreg_coefficient[\"Columns\"] = x_train.columns\n",
    "lreg_coefficient['Coefficient Estimate'] = pd.Series(lreg.coef_)\n",
    "print(lreg_coefficient)"
   ]
  },
  {
   "cell_type": "code",
   "execution_count": 52,
   "id": "88c66062",
   "metadata": {},
   "outputs": [],
   "source": [
    "#From the output above we can see there are few features with significance to our data, \n",
    "#stroke and comprassion"
   ]
  },
  {
   "cell_type": "code",
   "execution_count": 53,
   "id": "16ba224e",
   "metadata": {},
   "outputs": [
    {
     "name": "stdout",
     "output_type": "stream",
     "text": [
      "mean square error: 0.0021333968010014293\n",
      "        Columns  Coefficient Estimate\n",
      "0    wheel_base             -0.002729\n",
      "1        length              0.002222\n",
      "2         width              0.001014\n",
      "3       heights              0.001037\n",
      "4   curb_weight             -0.000049\n",
      "5   engine_size              0.000851\n",
      "6          bore             -0.017881\n",
      "7        stroke             -0.052807\n",
      "8   comprassion             -0.072721\n",
      "9   horse_power             -0.000076\n",
      "10     peak_rpm              0.000040\n",
      "11     city_mpg              0.000830\n",
      "12  highway_mpg              0.003250\n",
      "13        price             -0.000001\n"
     ]
    }
   ],
   "source": [
    "from sklearn.linear_model import Ridge\n",
    " \n",
    "# Train the model\n",
    "ridgeR = Ridge(alpha = 1)\n",
    "ridgeR.fit(x_train, y_train)\n",
    "y_pred = ridgeR.predict(x_test)\n",
    " \n",
    "# calculate mean square error\n",
    "mse_ridge = np.mean((y_pred - y_test)**2)\n",
    "print(\"mean square error: \" + str(mse_ridge))\n",
    "\n",
    "# get ridge coefficient and print them\n",
    "ridge_coefficient = pd.DataFrame()\n",
    "ridge_coefficient[\"Columns\"] = x_train.columns\n",
    "ridge_coefficient['Coefficient Estimate'] = pd.Series(ridgeR.coef_)\n",
    "print(ridge_coefficient)"
   ]
  },
  {
   "cell_type": "code",
   "execution_count": 54,
   "id": "44bca470",
   "metadata": {},
   "outputs": [
    {
     "data": {
      "image/png": "[encoded data removed]",
      "text/plain": [
       "<Figure size 2000x1000 with 1 Axes>"
      ]
     },
     "metadata": {},
     "output_type": "display_data"
    }
   ],
   "source": [
    "# plotting the coefficient score\n",
    "fig, ax = plt.subplots(figsize =(20, 10))\n",
    " \n",
    "color =['tab:gray', 'tab:blue', 'tab:orange',\n",
    "'tab:green', 'tab:red', 'tab:purple', 'tab:brown',\n",
    "'tab:pink', 'tab:gray', 'tab:olive', 'tab:cyan',\n",
    "'tab:orange', 'tab:green', 'tab:blue', 'tab:olive']\n",
    "\n",
    "ax.bar(ridge_coefficient[\"Columns\"],\n",
    "ridge_coefficient['Coefficient Estimate'],\n",
    "color = color)\n",
    "\n",
    "ax.spines['bottom'].set_position('zero')\n",
    "\n",
    "plt.style.use('ggplot')\n",
    "plt.show()"
   ]
  },
  {
   "cell_type": "markdown",
   "id": "d0ff7fee",
   "metadata": {},
   "source": [
    "### 1.4. Compare your results\n",
    "Compare your results from the three methods and also compare the coefficients to the full linear regression model (model1) from the previous homework.\n"
   ]
  },
  {
   "cell_type": "code",
   "execution_count": 39,
   "id": "e2c27bd2",
   "metadata": {},
   "outputs": [],
   "source": [
    "#Each method seemed to get us difference answers, probably\n",
    "#due to the different algorithms each method uses\n",
    "#Comparing the model1 coefficents to the Ridge Regression coefficients,\n",
    "#The values for both are close, although they may be scaled differently\n",
    "#they then to be in the same direction"
   ]
  },
  {
   "cell_type": "markdown",
   "id": "caeaf01d",
   "metadata": {},
   "source": [
    "# 2. Bonus question (*extra 5 points*)\n",
    "Reduce your features with PCA. Run a regression with the chosen number of PCA's, report your findings."
   ]
  },
  {
   "cell_type": "code",
   "execution_count": null,
   "id": "208eb710",
   "metadata": {},
   "outputs": [],
   "source": []
  }
 ],
 "metadata": {
  "kernelspec": {
   "display_name": "Python 3 (ipykernel)",
   "language": "python",
   "name": "python3"
  },
  "language_info": {
   "codemirror_mode": {
    "name": "ipython",
    "version": 3
   },
   "file_extension": ".py",
   "mimetype": "text/x-python",
   "name": "python",
   "nbconvert_exporter": "python",
   "pygments_lexer": "ipython3",
   "version": "3.10.1"
  }
 },
 "nbformat": 4,
 "nbformat_minor": 5
}

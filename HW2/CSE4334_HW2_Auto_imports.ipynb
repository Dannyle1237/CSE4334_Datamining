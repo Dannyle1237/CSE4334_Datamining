{
 "cells": [
  {
   "cell_type": "markdown",
   "id": "a48b00fe",
   "metadata": {},
   "source": [
    "## INSTRUCTIONS \n",
    "\n",
    "Every learner should submit his/her own homework solutions. However, you are allowed to discuss the homework with each other– but everyone must submit his/her own solution; you may not copy someone else’s solution. \n",
    "\n",
    "The homework consists of two parts:\n",
    "1.\tData manipulation/Exploratory Data Analysis\n",
    "2.\tMultipe regression Analysis\n",
    "3.  Variable selection\n",
    "\n",
    "Follow the prompts in the attached jupyter notebook. Download the data and place it in your working directory, or modify the path to upload it to your notebook. Add markdown cells to your analysis to include your solutions, comments, answers. **Add as many cells as you need**, for easy readability comment when possible.\n",
    "Hopefully this homework will help you develop skills, make you understand the flow of an EDA, get you ready for individual work.\n",
    "\n",
    "Submission: Converting into a pdf gave problems to some of you, you should send in both a ipynb and an html file of your work. \n",
    "\n",
    "Good luck!\n"
   ]
  },
  {
   "cell_type": "markdown",
   "id": "26855a3f",
   "metadata": {},
   "source": [
    "**Title: 1985 Auto Imports Database**\n",
    "\n",
    "Relevant Information:\n",
    "   -- Description\n",
    "      This data set consists of three types of entities: (a) the\n",
    "      specification of an auto in terms of various characteristics, (b)\n",
    "      its assigned insurance risk rating, (c) its normalized losses in use\n",
    "      as compared to other cars.  The second rating corresponds to the\n",
    "      degree to which the auto is more risky than its price indicates.\n",
    "      Cars are initially assigned a risk factor symbol associated with its\n",
    "      price.   Then, if it is more risky (or less), this symbol is\n",
    "      adjusted by moving it up (or down) the scale.  Actuarians call this\n",
    "      process \"symboling\".  A value of +3 indicates that the auto is\n",
    "      risky, -3 that it is probably pretty safe.\n",
    "\n",
    "      The third factor is the relative average loss payment per insured\n",
    "      vehicle year.  This value is normalized for all autos within a\n",
    "      particular size classification (two-door small, station wagons,\n",
    "      sports/speciality, etc...), and represents the average loss per car\n",
    "      per year.\n",
    "\n",
    "   -- Note: Several of the attributes in the database could be used as a\n",
    "            \"class\" attribute.\n",
    "\n",
    "5. Number of Instances: 205\n",
    "\n",
    "6. Number of Attributes: 26 total\n",
    "   -- 15 continuous\n",
    "   -- 1 integer\n",
    "   -- 10 nominal\n",
    "\n",
    "7. Attribute Information:     \n",
    "     Attribute:                Attribute Range:\n",
    "     ------------------        -----------------------------------------------\n",
    "  1. symboling:                -3, -2, -1, 0, 1, 2, 3.\n",
    "  2. normalized-losses:        continuous from 65 to 256.\n",
    "  3. make:                     alfa-romero, audi, bmw, chevrolet, dodge, honda,isuzu, jaguar, mazda, mercedes-benz, mercury, mitsubishi, nissan, peugot, plymouth, porsche, renault, saab, subaru, toyota,volkswagen, volvo\n",
    "  4. fuel-type:                diesel, gas.\n",
    "  5. aspiration:               std, turbo.\n",
    "  6. num-of-doors:             four, two.\n",
    "  7. body-style:               hardtop, wagon, sedan, hatchback, convertible.\n",
    "  8. drive-wheels:             4wd, fwd, rwd.\n",
    "  9. engine-location:          front, rear.\n",
    " 10. wheel-base:               continuous from 86.6 120.9.\n",
    " 11. length:                   continuous from 141.1 to 208.1.\n",
    " 12. width:                    continuous from 60.3 to 72.3.\n",
    " 13. height:                   continuous from 47.8 to 59.8.\n",
    " 14. curb-weight:              continuous from 1488 to 4066.\n",
    " 15. engine-type:              dohc, dohcv, l, ohc, ohcf, ohcv, rotor.\n",
    " 16. num-of-cylinders:         eight, five, four, six, three, twelve, two.\n",
    " 17. engine-size:              continuous from 61 to 326.\n",
    " 18. fuel-system:              1bbl, 2bbl, 4bbl, idi, mfi, mpfi, spdi, spfi.\n",
    " 19. bore:                     continuous from 2.54 to 3.94.\n",
    " 20. stroke:                   continuous from 2.07 to 4.17.\n",
    " 21. compression-ratio:        continuous from 7 to 23.\n",
    " 22. horsepower:               continuous from 48 to 288.\n",
    " 23. peak-rpm:                 continuous from 4150 to 6600.\n",
    " 24. city-mpg:                 continuous from 13 to 49.\n",
    " 25. highway-mpg:              continuous from 16 to 54.\n",
    " 26. price:                    continuous from 5118 to 45400.\n",
    "\n",
    "8. Missing Attribute Values: (denoted by \"?\")"
   ]
  },
  {
   "cell_type": "code",
   "execution_count": 2,
   "id": "cd0f90ba",
   "metadata": {},
   "outputs": [],
   "source": [
    "from scipy import stats\n",
    "from sklearn.linear_model import LinearRegression\n",
    "from sklearn.model_selection import train_test_split\n",
    "\n",
    "from statsmodels.compat import lzip\n",
    "from statsmodels.formula.api import ols\n",
    "from statsmodels.stats.anova import anova_lm\n",
    "from statsmodels.stats.outliers_influence import variance_inflation_factor\n",
    "import matplotlib\n",
    "import matplotlib.pyplot as plt\n",
    "import numpy as np\n",
    "import pandas as pd\n",
    "import seaborn as sns\n",
    "import statsmodels.api as sm\n",
    "\n",
    "%matplotlib inline"
   ]
  },
  {
   "cell_type": "code",
   "execution_count": 3,
   "id": "6b9fa984",
   "metadata": {},
   "outputs": [
    {
     "data": {
      "text/html": [
       "<div>\n",
       "<style scoped>\n",
       "    .dataframe tbody tr th:only-of-type {\n",
       "        vertical-align: middle;\n",
       "    }\n",
       "\n",
       "    .dataframe tbody tr th {\n",
       "        vertical-align: top;\n",
       "    }\n",
       "\n",
       "    .dataframe thead th {\n",
       "        text-align: right;\n",
       "    }\n",
       "</style>\n",
       "<table border=\"1\" class=\"dataframe\">\n",
       "  <thead>\n",
       "    <tr style=\"text-align: right;\">\n",
       "      <th></th>\n",
       "      <th>fuel_type</th>\n",
       "      <th>body</th>\n",
       "      <th>wheel_base</th>\n",
       "      <th>length</th>\n",
       "      <th>width</th>\n",
       "      <th>heights</th>\n",
       "      <th>curb_weight</th>\n",
       "      <th>engine_type</th>\n",
       "      <th>cylinders</th>\n",
       "      <th>engine_size</th>\n",
       "      <th>bore</th>\n",
       "      <th>stroke</th>\n",
       "      <th>comprassion</th>\n",
       "      <th>horse_power</th>\n",
       "      <th>peak_rpm</th>\n",
       "      <th>city_mpg</th>\n",
       "      <th>highway_mpg</th>\n",
       "      <th>price</th>\n",
       "    </tr>\n",
       "  </thead>\n",
       "  <tbody>\n",
       "    <tr>\n",
       "      <th>0</th>\n",
       "      <td>gas</td>\n",
       "      <td>convertible</td>\n",
       "      <td>88.6</td>\n",
       "      <td>168.8</td>\n",
       "      <td>64.1</td>\n",
       "      <td>48.8</td>\n",
       "      <td>2548</td>\n",
       "      <td>dohc</td>\n",
       "      <td>four</td>\n",
       "      <td>130</td>\n",
       "      <td>3.47</td>\n",
       "      <td>2.68</td>\n",
       "      <td>9.0</td>\n",
       "      <td>111</td>\n",
       "      <td>5000</td>\n",
       "      <td>21</td>\n",
       "      <td>27</td>\n",
       "      <td>13495</td>\n",
       "    </tr>\n",
       "    <tr>\n",
       "      <th>1</th>\n",
       "      <td>gas</td>\n",
       "      <td>convertible</td>\n",
       "      <td>88.6</td>\n",
       "      <td>168.8</td>\n",
       "      <td>64.1</td>\n",
       "      <td>48.8</td>\n",
       "      <td>2548</td>\n",
       "      <td>dohc</td>\n",
       "      <td>four</td>\n",
       "      <td>130</td>\n",
       "      <td>3.47</td>\n",
       "      <td>2.68</td>\n",
       "      <td>9.0</td>\n",
       "      <td>111</td>\n",
       "      <td>5000</td>\n",
       "      <td>21</td>\n",
       "      <td>27</td>\n",
       "      <td>16500</td>\n",
       "    </tr>\n",
       "    <tr>\n",
       "      <th>2</th>\n",
       "      <td>gas</td>\n",
       "      <td>hatchback</td>\n",
       "      <td>94.5</td>\n",
       "      <td>171.2</td>\n",
       "      <td>65.5</td>\n",
       "      <td>52.4</td>\n",
       "      <td>2823</td>\n",
       "      <td>ohcv</td>\n",
       "      <td>six</td>\n",
       "      <td>152</td>\n",
       "      <td>2.68</td>\n",
       "      <td>3.47</td>\n",
       "      <td>9.0</td>\n",
       "      <td>154</td>\n",
       "      <td>5000</td>\n",
       "      <td>19</td>\n",
       "      <td>26</td>\n",
       "      <td>16500</td>\n",
       "    </tr>\n",
       "    <tr>\n",
       "      <th>3</th>\n",
       "      <td>gas</td>\n",
       "      <td>sedan</td>\n",
       "      <td>99.8</td>\n",
       "      <td>176.6</td>\n",
       "      <td>66.2</td>\n",
       "      <td>54.3</td>\n",
       "      <td>2337</td>\n",
       "      <td>ohc</td>\n",
       "      <td>four</td>\n",
       "      <td>109</td>\n",
       "      <td>3.19</td>\n",
       "      <td>3.4</td>\n",
       "      <td>10.0</td>\n",
       "      <td>102</td>\n",
       "      <td>5500</td>\n",
       "      <td>24</td>\n",
       "      <td>30</td>\n",
       "      <td>13950</td>\n",
       "    </tr>\n",
       "    <tr>\n",
       "      <th>4</th>\n",
       "      <td>gas</td>\n",
       "      <td>sedan</td>\n",
       "      <td>99.4</td>\n",
       "      <td>176.6</td>\n",
       "      <td>66.4</td>\n",
       "      <td>54.3</td>\n",
       "      <td>2824</td>\n",
       "      <td>ohc</td>\n",
       "      <td>five</td>\n",
       "      <td>136</td>\n",
       "      <td>3.19</td>\n",
       "      <td>3.4</td>\n",
       "      <td>8.0</td>\n",
       "      <td>115</td>\n",
       "      <td>5500</td>\n",
       "      <td>18</td>\n",
       "      <td>22</td>\n",
       "      <td>17450</td>\n",
       "    </tr>\n",
       "  </tbody>\n",
       "</table>\n",
       "</div>"
      ],
      "text/plain": [
       "  fuel_type         body  wheel_base  length  width  heights  curb_weight  \\\n",
       "0       gas  convertible        88.6   168.8   64.1     48.8         2548   \n",
       "1       gas  convertible        88.6   168.8   64.1     48.8         2548   \n",
       "2       gas    hatchback        94.5   171.2   65.5     52.4         2823   \n",
       "3       gas        sedan        99.8   176.6   66.2     54.3         2337   \n",
       "4       gas        sedan        99.4   176.6   66.4     54.3         2824   \n",
       "\n",
       "  engine_type cylinders  engine_size  bore stroke  comprassion horse_power  \\\n",
       "0        dohc      four          130  3.47   2.68          9.0         111   \n",
       "1        dohc      four          130  3.47   2.68          9.0         111   \n",
       "2        ohcv       six          152  2.68   3.47          9.0         154   \n",
       "3         ohc      four          109  3.19    3.4         10.0         102   \n",
       "4         ohc      five          136  3.19    3.4          8.0         115   \n",
       "\n",
       "  peak_rpm  city_mpg  highway_mpg  price  \n",
       "0     5000        21           27  13495  \n",
       "1     5000        21           27  16500  \n",
       "2     5000        19           26  16500  \n",
       "3     5500        24           30  13950  \n",
       "4     5500        18           22  17450  "
      ]
     },
     "execution_count": 3,
     "metadata": {},
     "output_type": "execute_result"
    }
   ],
   "source": [
    "#Read in data\n",
    "df =pd.read_csv('auto_imports1.csv')\n",
    "\n",
    "df.head()"
   ]
  },
  {
   "cell_type": "markdown",
   "id": "0612a859",
   "metadata": {},
   "source": [
    "## 1. Data "
   ]
  },
  {
   "cell_type": "markdown",
   "id": "a83025f2",
   "metadata": {},
   "source": [
    "## 1.1 Munging"
   ]
  },
  {
   "cell_type": "markdown",
   "id": "c6609441",
   "metadata": {},
   "source": [
    "Check what types of variables do you have in your data? Do you see anything that doesn't make sense? *Hint: horse power is  an object ?!*"
   ]
  },
  {
   "cell_type": "code",
   "execution_count": 4,
   "id": "31653e17",
   "metadata": {},
   "outputs": [
    {
     "name": "stdout",
     "output_type": "stream",
     "text": [
      "fuel_type       object\n",
      "body            object\n",
      "wheel_base     float64\n",
      "length         float64\n",
      "width          float64\n",
      "heights        float64\n",
      "curb_weight      int64\n",
      "engine_type     object\n",
      "cylinders       object\n",
      "engine_size      int64\n",
      "bore            object\n",
      "stroke          object\n",
      "comprassion    float64\n",
      "horse_power     object\n",
      "peak_rpm        object\n",
      "city_mpg         int64\n",
      "highway_mpg      int64\n",
      "price            int64\n",
      "dtype: object\n"
     ]
    }
   ],
   "source": [
    "##your code here\n",
    "print(df.dtypes)\n",
    "#bore, stroke, horse_power, peak_rpm, are objects even though they can be represented through numbers"
   ]
  },
  {
   "cell_type": "markdown",
   "id": "bc82db67",
   "metadata": {},
   "source": [
    "### Replace '?' with None\n",
    "\n",
    "### Change the variables: bore, stroke, horse_power, peak_rpm to float64"
   ]
  },
  {
   "cell_type": "code",
   "execution_count": 5,
   "id": "44e48a11",
   "metadata": {},
   "outputs": [],
   "source": [
    "## Your code here\n",
    "df[['bore', 'stroke', 'horse_power', 'peak_rpm']] = df[['bore', 'stroke', 'horse_power', 'peak_rpm']].apply(pd.to_numeric, errors='coerce')\n"
   ]
  },
  {
   "cell_type": "code",
   "execution_count": 6,
   "id": "679c62b9",
   "metadata": {},
   "outputs": [
    {
     "name": "stdout",
     "output_type": "stream",
     "text": [
      "<class 'pandas.core.frame.DataFrame'>\n",
      "RangeIndex: 201 entries, 0 to 200\n",
      "Data columns (total 18 columns):\n",
      " #   Column       Non-Null Count  Dtype  \n",
      "---  ------       --------------  -----  \n",
      " 0   fuel_type    201 non-null    object \n",
      " 1   body         201 non-null    object \n",
      " 2   wheel_base   201 non-null    float64\n",
      " 3   length       201 non-null    float64\n",
      " 4   width        201 non-null    float64\n",
      " 5   heights      201 non-null    float64\n",
      " 6   curb_weight  201 non-null    int64  \n",
      " 7   engine_type  201 non-null    object \n",
      " 8   cylinders    201 non-null    object \n",
      " 9   engine_size  201 non-null    int64  \n",
      " 10  bore         197 non-null    float64\n",
      " 11  stroke       197 non-null    float64\n",
      " 12  comprassion  201 non-null    float64\n",
      " 13  horse_power  199 non-null    float64\n",
      " 14  peak_rpm     199 non-null    float64\n",
      " 15  city_mpg     201 non-null    int64  \n",
      " 16  highway_mpg  201 non-null    int64  \n",
      " 17  price        201 non-null    int64  \n",
      "dtypes: float64(9), int64(5), object(4)\n",
      "memory usage: 28.4+ KB\n"
     ]
    }
   ],
   "source": [
    "df.info()"
   ]
  },
  {
   "cell_type": "markdown",
   "id": "e3e38f59",
   "metadata": {},
   "source": [
    "### Drop body,engine_type,cylinders columns and name the new dataframe df2"
   ]
  },
  {
   "cell_type": "code",
   "execution_count": 7,
   "id": "e376ebf3",
   "metadata": {},
   "outputs": [],
   "source": [
    "## Your code here\n",
    "df2 = df.drop(['body', 'engine_type', 'cylinders'], axis=1)"
   ]
  },
  {
   "cell_type": "code",
   "execution_count": 8,
   "id": "2da1338f",
   "metadata": {},
   "outputs": [
    {
     "data": {
      "text/html": [
       "<div>\n",
       "<style scoped>\n",
       "    .dataframe tbody tr th:only-of-type {\n",
       "        vertical-align: middle;\n",
       "    }\n",
       "\n",
       "    .dataframe tbody tr th {\n",
       "        vertical-align: top;\n",
       "    }\n",
       "\n",
       "    .dataframe thead th {\n",
       "        text-align: right;\n",
       "    }\n",
       "</style>\n",
       "<table border=\"1\" class=\"dataframe\">\n",
       "  <thead>\n",
       "    <tr style=\"text-align: right;\">\n",
       "      <th></th>\n",
       "      <th>fuel_type</th>\n",
       "      <th>wheel_base</th>\n",
       "      <th>length</th>\n",
       "      <th>width</th>\n",
       "      <th>heights</th>\n",
       "      <th>curb_weight</th>\n",
       "      <th>engine_size</th>\n",
       "      <th>bore</th>\n",
       "      <th>stroke</th>\n",
       "      <th>comprassion</th>\n",
       "      <th>horse_power</th>\n",
       "      <th>peak_rpm</th>\n",
       "      <th>city_mpg</th>\n",
       "      <th>highway_mpg</th>\n",
       "      <th>price</th>\n",
       "    </tr>\n",
       "  </thead>\n",
       "  <tbody>\n",
       "    <tr>\n",
       "      <th>0</th>\n",
       "      <td>gas</td>\n",
       "      <td>88.6</td>\n",
       "      <td>168.8</td>\n",
       "      <td>64.1</td>\n",
       "      <td>48.8</td>\n",
       "      <td>2548</td>\n",
       "      <td>130</td>\n",
       "      <td>3.47</td>\n",
       "      <td>2.68</td>\n",
       "      <td>9.0</td>\n",
       "      <td>111.0</td>\n",
       "      <td>5000.0</td>\n",
       "      <td>21</td>\n",
       "      <td>27</td>\n",
       "      <td>13495</td>\n",
       "    </tr>\n",
       "    <tr>\n",
       "      <th>1</th>\n",
       "      <td>gas</td>\n",
       "      <td>88.6</td>\n",
       "      <td>168.8</td>\n",
       "      <td>64.1</td>\n",
       "      <td>48.8</td>\n",
       "      <td>2548</td>\n",
       "      <td>130</td>\n",
       "      <td>3.47</td>\n",
       "      <td>2.68</td>\n",
       "      <td>9.0</td>\n",
       "      <td>111.0</td>\n",
       "      <td>5000.0</td>\n",
       "      <td>21</td>\n",
       "      <td>27</td>\n",
       "      <td>16500</td>\n",
       "    </tr>\n",
       "    <tr>\n",
       "      <th>2</th>\n",
       "      <td>gas</td>\n",
       "      <td>94.5</td>\n",
       "      <td>171.2</td>\n",
       "      <td>65.5</td>\n",
       "      <td>52.4</td>\n",
       "      <td>2823</td>\n",
       "      <td>152</td>\n",
       "      <td>2.68</td>\n",
       "      <td>3.47</td>\n",
       "      <td>9.0</td>\n",
       "      <td>154.0</td>\n",
       "      <td>5000.0</td>\n",
       "      <td>19</td>\n",
       "      <td>26</td>\n",
       "      <td>16500</td>\n",
       "    </tr>\n",
       "    <tr>\n",
       "      <th>3</th>\n",
       "      <td>gas</td>\n",
       "      <td>99.8</td>\n",
       "      <td>176.6</td>\n",
       "      <td>66.2</td>\n",
       "      <td>54.3</td>\n",
       "      <td>2337</td>\n",
       "      <td>109</td>\n",
       "      <td>3.19</td>\n",
       "      <td>3.40</td>\n",
       "      <td>10.0</td>\n",
       "      <td>102.0</td>\n",
       "      <td>5500.0</td>\n",
       "      <td>24</td>\n",
       "      <td>30</td>\n",
       "      <td>13950</td>\n",
       "    </tr>\n",
       "    <tr>\n",
       "      <th>4</th>\n",
       "      <td>gas</td>\n",
       "      <td>99.4</td>\n",
       "      <td>176.6</td>\n",
       "      <td>66.4</td>\n",
       "      <td>54.3</td>\n",
       "      <td>2824</td>\n",
       "      <td>136</td>\n",
       "      <td>3.19</td>\n",
       "      <td>3.40</td>\n",
       "      <td>8.0</td>\n",
       "      <td>115.0</td>\n",
       "      <td>5500.0</td>\n",
       "      <td>18</td>\n",
       "      <td>22</td>\n",
       "      <td>17450</td>\n",
       "    </tr>\n",
       "  </tbody>\n",
       "</table>\n",
       "</div>"
      ],
      "text/plain": [
       "  fuel_type  wheel_base  length  width  heights  curb_weight  engine_size  \\\n",
       "0       gas        88.6   168.8   64.1     48.8         2548          130   \n",
       "1       gas        88.6   168.8   64.1     48.8         2548          130   \n",
       "2       gas        94.5   171.2   65.5     52.4         2823          152   \n",
       "3       gas        99.8   176.6   66.2     54.3         2337          109   \n",
       "4       gas        99.4   176.6   66.4     54.3         2824          136   \n",
       "\n",
       "   bore  stroke  comprassion  horse_power  peak_rpm  city_mpg  highway_mpg  \\\n",
       "0  3.47    2.68          9.0        111.0    5000.0        21           27   \n",
       "1  3.47    2.68          9.0        111.0    5000.0        21           27   \n",
       "2  2.68    3.47          9.0        154.0    5000.0        19           26   \n",
       "3  3.19    3.40         10.0        102.0    5500.0        24           30   \n",
       "4  3.19    3.40          8.0        115.0    5500.0        18           22   \n",
       "\n",
       "   price  \n",
       "0  13495  \n",
       "1  16500  \n",
       "2  16500  \n",
       "3  13950  \n",
       "4  17450  "
      ]
     },
     "execution_count": 8,
     "metadata": {},
     "output_type": "execute_result"
    }
   ],
   "source": [
    "df2.head()\n"
   ]
  },
  {
   "cell_type": "markdown",
   "id": "776b5cda",
   "metadata": {},
   "source": [
    "### Drop all nan values"
   ]
  },
  {
   "cell_type": "code",
   "execution_count": 9,
   "id": "be7386d2",
   "metadata": {},
   "outputs": [],
   "source": [
    "## your code goes here\n",
    "df2 = df2.dropna()"
   ]
  },
  {
   "cell_type": "code",
   "execution_count": 10,
   "id": "7d6a861b",
   "metadata": {
    "scrolled": false
   },
   "outputs": [
    {
     "data": {
      "text/plain": [
       "fuel_type      0\n",
       "wheel_base     0\n",
       "length         0\n",
       "width          0\n",
       "heights        0\n",
       "curb_weight    0\n",
       "engine_size    0\n",
       "bore           0\n",
       "stroke         0\n",
       "comprassion    0\n",
       "horse_power    0\n",
       "peak_rpm       0\n",
       "city_mpg       0\n",
       "highway_mpg    0\n",
       "price          0\n",
       "dtype: int64"
      ]
     },
     "execution_count": 10,
     "metadata": {},
     "output_type": "execute_result"
    }
   ],
   "source": [
    "df2.isnull().sum()"
   ]
  },
  {
   "cell_type": "markdown",
   "id": "077e84ea",
   "metadata": {},
   "source": [
    "### Get dummy variables for fuel_type within df2 drop first level"
   ]
  },
  {
   "cell_type": "code",
   "execution_count": 11,
   "id": "6a8862f5",
   "metadata": {},
   "outputs": [],
   "source": [
    "## Your code goes here\n",
    "df2['fuel_type'] = pd.get_dummies(df2['fuel_type'], drop_first=True)"
   ]
  },
  {
   "cell_type": "code",
   "execution_count": 12,
   "id": "0be0d4db",
   "metadata": {},
   "outputs": [
    {
     "name": "stdout",
     "output_type": "stream",
     "text": [
      "<class 'pandas.core.frame.DataFrame'>\n",
      "Int64Index: 195 entries, 0 to 200\n",
      "Data columns (total 15 columns):\n",
      " #   Column       Non-Null Count  Dtype  \n",
      "---  ------       --------------  -----  \n",
      " 0   fuel_type    195 non-null    uint8  \n",
      " 1   wheel_base   195 non-null    float64\n",
      " 2   length       195 non-null    float64\n",
      " 3   width        195 non-null    float64\n",
      " 4   heights      195 non-null    float64\n",
      " 5   curb_weight  195 non-null    int64  \n",
      " 6   engine_size  195 non-null    int64  \n",
      " 7   bore         195 non-null    float64\n",
      " 8   stroke       195 non-null    float64\n",
      " 9   comprassion  195 non-null    float64\n",
      " 10  horse_power  195 non-null    float64\n",
      " 11  peak_rpm     195 non-null    float64\n",
      " 12  city_mpg     195 non-null    int64  \n",
      " 13  highway_mpg  195 non-null    int64  \n",
      " 14  price        195 non-null    int64  \n",
      "dtypes: float64(9), int64(5), uint8(1)\n",
      "memory usage: 23.0 KB\n"
     ]
    }
   ],
   "source": [
    "df2.info()"
   ]
  },
  {
   "cell_type": "markdown",
   "id": "671c8e51",
   "metadata": {},
   "source": [
    "## 1.2 EDA"
   ]
  },
  {
   "cell_type": "markdown",
   "id": "8ac7ba3e",
   "metadata": {},
   "source": [
    "Exploratory Data Analysis refers to the critical process of performing initial investigations on data so as to discover patterns,to spot anomalies,to test hypothesis and to check assumptions with the help of summary statistics and graphical representations.\n",
    "\n",
    "Follow the lecture notes for ideas of how to perform EDA on your dataset. For help, here are the steps we talked about:\n",
    "\n",
    "Suggested Steps in EDA:\n",
    "\n",
    "    Provide descriptions of your sample and features\n",
    "    Check for missing data\n",
    "    Identify the shape of your data\n",
    "    Identify significant correlations\n",
    "    Spot/deal with outliers in the dataset\n",
    "\n",
    "These steps are a guidline. Try different things and share your insights about the dataset (**df2**).\n",
    "\n",
    "Don't forget to add \"markdown\" cells to include your findings or to **explain** what you are doing\n"
   ]
  },
  {
   "cell_type": "code",
   "execution_count": 13,
   "id": "71708d38",
   "metadata": {},
   "outputs": [
    {
     "name": "stdout",
     "output_type": "stream",
     "text": [
      "Rows/Observations: 195\n",
      "Columns/Features: 15\n",
      "<class 'pandas.core.frame.DataFrame'>\n",
      "Int64Index: 195 entries, 0 to 200\n",
      "Data columns (total 15 columns):\n",
      " #   Column       Non-Null Count  Dtype  \n",
      "---  ------       --------------  -----  \n",
      " 0   fuel_type    195 non-null    uint8  \n",
      " 1   wheel_base   195 non-null    float64\n",
      " 2   length       195 non-null    float64\n",
      " 3   width        195 non-null    float64\n",
      " 4   heights      195 non-null    float64\n",
      " 5   curb_weight  195 non-null    int64  \n",
      " 6   engine_size  195 non-null    int64  \n",
      " 7   bore         195 non-null    float64\n",
      " 8   stroke       195 non-null    float64\n",
      " 9   comprassion  195 non-null    float64\n",
      " 10  horse_power  195 non-null    float64\n",
      " 11  peak_rpm     195 non-null    float64\n",
      " 12  city_mpg     195 non-null    int64  \n",
      " 13  highway_mpg  195 non-null    int64  \n",
      " 14  price        195 non-null    int64  \n",
      "dtypes: float64(9), int64(5), uint8(1)\n",
      "memory usage: 23.0 KB\n",
      "None\n",
      "The data frame has 0 features that is/are categorical\n"
     ]
    },
    {
     "data": {
      "text/html": [
       "<div>\n",
       "<style scoped>\n",
       "    .dataframe tbody tr th:only-of-type {\n",
       "        vertical-align: middle;\n",
       "    }\n",
       "\n",
       "    .dataframe tbody tr th {\n",
       "        vertical-align: top;\n",
       "    }\n",
       "\n",
       "    .dataframe thead th {\n",
       "        text-align: right;\n",
       "    }\n",
       "</style>\n",
       "<table border=\"1\" class=\"dataframe\">\n",
       "  <thead>\n",
       "    <tr style=\"text-align: right;\">\n",
       "      <th></th>\n",
       "      <th>fuel_type</th>\n",
       "      <th>wheel_base</th>\n",
       "      <th>length</th>\n",
       "      <th>width</th>\n",
       "      <th>heights</th>\n",
       "      <th>curb_weight</th>\n",
       "      <th>engine_size</th>\n",
       "      <th>bore</th>\n",
       "      <th>stroke</th>\n",
       "      <th>comprassion</th>\n",
       "      <th>horse_power</th>\n",
       "      <th>peak_rpm</th>\n",
       "      <th>city_mpg</th>\n",
       "      <th>highway_mpg</th>\n",
       "      <th>price</th>\n",
       "    </tr>\n",
       "  </thead>\n",
       "  <tbody>\n",
       "    <tr>\n",
       "      <th>count</th>\n",
       "      <td>195.000000</td>\n",
       "      <td>195.000000</td>\n",
       "      <td>195.000000</td>\n",
       "      <td>195.000000</td>\n",
       "      <td>195.000000</td>\n",
       "      <td>195.000000</td>\n",
       "      <td>195.000000</td>\n",
       "      <td>195.000000</td>\n",
       "      <td>195.000000</td>\n",
       "      <td>195.000000</td>\n",
       "      <td>195.000000</td>\n",
       "      <td>195.000000</td>\n",
       "      <td>195.000000</td>\n",
       "      <td>195.000000</td>\n",
       "      <td>195.000000</td>\n",
       "    </tr>\n",
       "    <tr>\n",
       "      <th>mean</th>\n",
       "      <td>0.897436</td>\n",
       "      <td>98.896410</td>\n",
       "      <td>174.256923</td>\n",
       "      <td>65.886154</td>\n",
       "      <td>53.861538</td>\n",
       "      <td>2559.000000</td>\n",
       "      <td>127.938462</td>\n",
       "      <td>3.329385</td>\n",
       "      <td>3.250308</td>\n",
       "      <td>10.194974</td>\n",
       "      <td>103.271795</td>\n",
       "      <td>5099.487179</td>\n",
       "      <td>25.374359</td>\n",
       "      <td>30.841026</td>\n",
       "      <td>13248.015385</td>\n",
       "    </tr>\n",
       "    <tr>\n",
       "      <th>std</th>\n",
       "      <td>0.304170</td>\n",
       "      <td>6.132038</td>\n",
       "      <td>12.476443</td>\n",
       "      <td>2.132484</td>\n",
       "      <td>2.396778</td>\n",
       "      <td>524.715799</td>\n",
       "      <td>41.433916</td>\n",
       "      <td>0.271866</td>\n",
       "      <td>0.314115</td>\n",
       "      <td>4.062109</td>\n",
       "      <td>37.869730</td>\n",
       "      <td>468.271381</td>\n",
       "      <td>6.401382</td>\n",
       "      <td>6.829315</td>\n",
       "      <td>8056.330093</td>\n",
       "    </tr>\n",
       "    <tr>\n",
       "      <th>min</th>\n",
       "      <td>0.000000</td>\n",
       "      <td>86.600000</td>\n",
       "      <td>141.100000</td>\n",
       "      <td>60.300000</td>\n",
       "      <td>47.800000</td>\n",
       "      <td>1488.000000</td>\n",
       "      <td>61.000000</td>\n",
       "      <td>2.540000</td>\n",
       "      <td>2.070000</td>\n",
       "      <td>7.000000</td>\n",
       "      <td>48.000000</td>\n",
       "      <td>4150.000000</td>\n",
       "      <td>13.000000</td>\n",
       "      <td>16.000000</td>\n",
       "      <td>5118.000000</td>\n",
       "    </tr>\n",
       "    <tr>\n",
       "      <th>25%</th>\n",
       "      <td>1.000000</td>\n",
       "      <td>94.500000</td>\n",
       "      <td>166.300000</td>\n",
       "      <td>64.050000</td>\n",
       "      <td>52.000000</td>\n",
       "      <td>2145.000000</td>\n",
       "      <td>98.000000</td>\n",
       "      <td>3.150000</td>\n",
       "      <td>3.110000</td>\n",
       "      <td>8.500000</td>\n",
       "      <td>70.000000</td>\n",
       "      <td>4800.000000</td>\n",
       "      <td>19.500000</td>\n",
       "      <td>25.000000</td>\n",
       "      <td>7756.500000</td>\n",
       "    </tr>\n",
       "    <tr>\n",
       "      <th>50%</th>\n",
       "      <td>1.000000</td>\n",
       "      <td>97.000000</td>\n",
       "      <td>173.200000</td>\n",
       "      <td>65.400000</td>\n",
       "      <td>54.100000</td>\n",
       "      <td>2414.000000</td>\n",
       "      <td>120.000000</td>\n",
       "      <td>3.310000</td>\n",
       "      <td>3.290000</td>\n",
       "      <td>9.000000</td>\n",
       "      <td>95.000000</td>\n",
       "      <td>5100.000000</td>\n",
       "      <td>25.000000</td>\n",
       "      <td>30.000000</td>\n",
       "      <td>10245.000000</td>\n",
       "    </tr>\n",
       "    <tr>\n",
       "      <th>75%</th>\n",
       "      <td>1.000000</td>\n",
       "      <td>102.400000</td>\n",
       "      <td>184.050000</td>\n",
       "      <td>66.900000</td>\n",
       "      <td>55.650000</td>\n",
       "      <td>2943.500000</td>\n",
       "      <td>145.500000</td>\n",
       "      <td>3.590000</td>\n",
       "      <td>3.410000</td>\n",
       "      <td>9.400000</td>\n",
       "      <td>116.000000</td>\n",
       "      <td>5500.000000</td>\n",
       "      <td>30.000000</td>\n",
       "      <td>35.000000</td>\n",
       "      <td>16509.000000</td>\n",
       "    </tr>\n",
       "    <tr>\n",
       "      <th>max</th>\n",
       "      <td>1.000000</td>\n",
       "      <td>120.900000</td>\n",
       "      <td>208.100000</td>\n",
       "      <td>72.000000</td>\n",
       "      <td>59.800000</td>\n",
       "      <td>4066.000000</td>\n",
       "      <td>326.000000</td>\n",
       "      <td>3.940000</td>\n",
       "      <td>4.170000</td>\n",
       "      <td>23.000000</td>\n",
       "      <td>262.000000</td>\n",
       "      <td>6600.000000</td>\n",
       "      <td>49.000000</td>\n",
       "      <td>54.000000</td>\n",
       "      <td>45400.000000</td>\n",
       "    </tr>\n",
       "  </tbody>\n",
       "</table>\n",
       "</div>"
      ],
      "text/plain": [
       "        fuel_type  wheel_base      length       width     heights  \\\n",
       "count  195.000000  195.000000  195.000000  195.000000  195.000000   \n",
       "mean     0.897436   98.896410  174.256923   65.886154   53.861538   \n",
       "std      0.304170    6.132038   12.476443    2.132484    2.396778   \n",
       "min      0.000000   86.600000  141.100000   60.300000   47.800000   \n",
       "25%      1.000000   94.500000  166.300000   64.050000   52.000000   \n",
       "50%      1.000000   97.000000  173.200000   65.400000   54.100000   \n",
       "75%      1.000000  102.400000  184.050000   66.900000   55.650000   \n",
       "max      1.000000  120.900000  208.100000   72.000000   59.800000   \n",
       "\n",
       "       curb_weight  engine_size        bore      stroke  comprassion  \\\n",
       "count   195.000000   195.000000  195.000000  195.000000   195.000000   \n",
       "mean   2559.000000   127.938462    3.329385    3.250308    10.194974   \n",
       "std     524.715799    41.433916    0.271866    0.314115     4.062109   \n",
       "min    1488.000000    61.000000    2.540000    2.070000     7.000000   \n",
       "25%    2145.000000    98.000000    3.150000    3.110000     8.500000   \n",
       "50%    2414.000000   120.000000    3.310000    3.290000     9.000000   \n",
       "75%    2943.500000   145.500000    3.590000    3.410000     9.400000   \n",
       "max    4066.000000   326.000000    3.940000    4.170000    23.000000   \n",
       "\n",
       "       horse_power     peak_rpm    city_mpg  highway_mpg         price  \n",
       "count   195.000000   195.000000  195.000000   195.000000    195.000000  \n",
       "mean    103.271795  5099.487179   25.374359    30.841026  13248.015385  \n",
       "std      37.869730   468.271381    6.401382     6.829315   8056.330093  \n",
       "min      48.000000  4150.000000   13.000000    16.000000   5118.000000  \n",
       "25%      70.000000  4800.000000   19.500000    25.000000   7756.500000  \n",
       "50%      95.000000  5100.000000   25.000000    30.000000  10245.000000  \n",
       "75%     116.000000  5500.000000   30.000000    35.000000  16509.000000  \n",
       "max     262.000000  6600.000000   49.000000    54.000000  45400.000000  "
      ]
     },
     "execution_count": 13,
     "metadata": {},
     "output_type": "execute_result"
    }
   ],
   "source": [
    "## Your EDA should start here\n",
    "#1. Provide descriptions of your sample and features\n",
    "#Find row and columns\n",
    "print(\"Rows/Observations: \" + str(df2.shape[0]))\n",
    "print(\"Columns/Features: \" + str(df2.shape[1]))\n",
    "print(df2.info())\n",
    "#Check how many variables are categorical, rest are likely numeric\n",
    "categorical_variables = 0\n",
    "for i in df2.dtypes:\n",
    " if i == object:\n",
    "     categorical_variables += 1\n",
    "print(\"The data frame has \" + str(categorical_variables) + \" features that is/are categorical\")\n",
    "#print quick description\n",
    "df2.describe()"
   ]
  },
  {
   "cell_type": "code",
   "execution_count": 14,
   "id": "593ace1e",
   "metadata": {},
   "outputs": [
    {
     "name": "stdout",
     "output_type": "stream",
     "text": [
      "There are no missing values\n",
      "fuel_type      0\n",
      "wheel_base     0\n",
      "length         0\n",
      "width          0\n",
      "heights        0\n",
      "curb_weight    0\n",
      "engine_size    0\n",
      "bore           0\n",
      "stroke         0\n",
      "comprassion    0\n",
      "horse_power    0\n",
      "peak_rpm       0\n",
      "city_mpg       0\n",
      "highway_mpg    0\n",
      "price          0\n",
      "dtype: int64\n",
      "\n",
      "\n",
      "\n",
      "fuel_type\n",
      "1    175\n",
      "0     20\n",
      "dtype: int64\n",
      "We can see our data is not balanced because there a large ratio of gas to diesel cars\n"
     ]
    }
   ],
   "source": [
    "#2 Check for missing values\n",
    "missing_values = False\n",
    "for i in df2.isnull().sum():\n",
    "    if i != 0:\n",
    "         missing_values = True\n",
    "if(not missing_values):\n",
    "     print(\"There are no missing values\")\n",
    "else:\n",
    "    print(\"There are missing values\")\n",
    "print(df2.isnull().sum())\n",
    "print(\"\\n\\n\")\n",
    "print(df2.value_counts(\"fuel_type\"))\n",
    "print(\"We can see our data is not balanced because there a large ratio of gas to diesel cars\")"
   ]
  },
  {
   "cell_type": "code",
   "execution_count": 15,
   "id": "4b1f7616",
   "metadata": {},
   "outputs": [
    {
     "name": "stdout",
     "output_type": "stream",
     "text": [
      "From the countplot, we can see our data consists mostly of gas reliant cars than diesel\n"
     ]
    },
    {
     "data": {
      "image/png": "[encoded data removed]",
      "text/plain": [
       "<Figure size 640x480 with 1 Axes>"
      ]
     },
     "metadata": {},
     "output_type": "display_data"
    }
   ],
   "source": [
    "#3 Find shape of data\n",
    "sns.countplot(x='fuel_type', data=df2)\n",
    "print(\"From the countplot, we can see our data consists mostly of gas reliant cars than diesel\")"
   ]
  },
  {
   "cell_type": "code",
   "execution_count": 16,
   "id": "6b851a75",
   "metadata": {},
   "outputs": [
    {
     "data": {
      "text/plain": [
       "<Axes: xlabel='length', ylabel='width'>"
      ]
     },
     "execution_count": 16,
     "metadata": {},
     "output_type": "execute_result"
    },
    {
     "data": {
      "image/png": "[encoded data removed]",
      "text/plain": [
       "<Figure size 640x480 with 1 Axes>"
      ]
     },
     "metadata": {},
     "output_type": "display_data"
    }
   ],
   "source": [
    "sns.scatterplot(data=df2, x=\"length\", y=\"width\", hue='fuel_type')\n"
   ]
  },
  {
   "cell_type": "code",
   "execution_count": 17,
   "id": "4b4d550b",
   "metadata": {},
   "outputs": [],
   "source": [
    "#Above, we see the length and width of the car doesn't appear to be affected\n",
    "#by the fuel type, although this can be because we have few diesel data points"
   ]
  },
  {
   "cell_type": "code",
   "execution_count": 18,
   "id": "9c1470e1",
   "metadata": {},
   "outputs": [
    {
     "data": {
      "text/plain": [
       "<Axes: xlabel='engine_size', ylabel='city_mpg'>"
      ]
     },
     "execution_count": 18,
     "metadata": {},
     "output_type": "execute_result"
    },
    {
     "data": {
      "image/png": "[encoded data removed]",
      "text/plain": [
       "<Figure size 640x480 with 1 Axes>"
      ]
     },
     "metadata": {},
     "output_type": "display_data"
    }
   ],
   "source": [
    "sns.scatterplot(data=df2, x=\"engine_size\", y=\"city_mpg\", hue='fuel_type')"
   ]
  },
  {
   "cell_type": "code",
   "execution_count": 19,
   "id": "f27beded",
   "metadata": {},
   "outputs": [],
   "source": [
    "#Once again, the fuel type doesnt appear to affect the city mpg or engine_size. \n",
    "#However we can see as the engine size increases, mpg decreases so there may \n",
    "#be a negative correlation"
   ]
  },
  {
   "cell_type": "code",
   "execution_count": 20,
   "id": "2f9563a0",
   "metadata": {},
   "outputs": [
    {
     "data": {
      "text/plain": [
       "<Axes: xlabel='fuel_type', ylabel='engine_size'>"
      ]
     },
     "execution_count": 20,
     "metadata": {},
     "output_type": "execute_result"
    },
    {
     "data": {
      "image/png": "[encoded data removed]",
      "text/plain": [
       "<Figure size 640x480 with 1 Axes>"
      ]
     },
     "metadata": {},
     "output_type": "display_data"
    }
   ],
   "source": [
    "sns.stripplot(y ='engine_size', x = 'fuel_type', data = df2)"
   ]
  },
  {
   "cell_type": "code",
   "execution_count": 21,
   "id": "79ac1d37",
   "metadata": {},
   "outputs": [],
   "source": [
    "#This plot appears to support our previous statement that fuel_type\n",
    "#doesnt affect engine size. While there are some outliers for gas,\n",
    "#It could be due to our low sample size for diesel\n",
    "#However, we should rememeber that gas cars can reach up to 300+ units for \n",
    "#engine size"
   ]
  },
  {
   "cell_type": "code",
   "execution_count": 22,
   "id": "a19cf94d",
   "metadata": {},
   "outputs": [
    {
     "data": {
      "text/plain": [
       "<Axes: xlabel='fuel_type', ylabel='price'>"
      ]
     },
     "execution_count": 22,
     "metadata": {},
     "output_type": "execute_result"
    },
    {
     "data": {
      "image/png": "[encoded data removed]",
      "text/plain": [
       "<Figure size 640x480 with 1 Axes>"
      ]
     },
     "metadata": {},
     "output_type": "display_data"
    }
   ],
   "source": [
    "sns.stripplot(y ='price', x = 'fuel_type', data = df2)"
   ]
  },
  {
   "cell_type": "code",
   "execution_count": 23,
   "id": "9ab0c13e",
   "metadata": {},
   "outputs": [],
   "source": [
    "#Here we can see the price of both fuel types can vary heavily"
   ]
  },
  {
   "cell_type": "code",
   "execution_count": 24,
   "id": "5281324a",
   "metadata": {},
   "outputs": [
    {
     "data": {
      "text/plain": [
       "<Axes: xlabel='length', ylabel='Count'>"
      ]
     },
     "execution_count": 24,
     "metadata": {},
     "output_type": "execute_result"
    },
    {
     "data": {
      "image/png": "[encoded data removed]",
      "text/plain": [
       "<Figure size 640x480 with 1 Axes>"
      ]
     },
     "metadata": {},
     "output_type": "display_data"
    }
   ],
   "source": [
    "sns.histplot(x='length', data=df2, hue='fuel_type', kde=True)"
   ]
  },
  {
   "cell_type": "code",
   "execution_count": 25,
   "id": "e390f515",
   "metadata": {},
   "outputs": [
    {
     "data": {
      "text/plain": [
       "<Axes: xlabel='engine_size', ylabel='Count'>"
      ]
     },
     "execution_count": 25,
     "metadata": {},
     "output_type": "execute_result"
    },
    {
     "data": {
      "image/png": "[encoded data removed]",
      "text/plain": [
       "<Figure size 640x480 with 1 Axes>"
      ]
     },
     "metadata": {},
     "output_type": "display_data"
    }
   ],
   "source": [
    "sns.histplot(x='engine_size', data=df2, hue='fuel_type', kde=True)"
   ]
  },
  {
   "cell_type": "code",
   "execution_count": 26,
   "id": "3c51042b",
   "metadata": {},
   "outputs": [
    {
     "data": {
      "text/plain": [
       "<Axes: xlabel='price', ylabel='Count'>"
      ]
     },
     "execution_count": 26,
     "metadata": {},
     "output_type": "execute_result"
    },
    {
     "data": {
      "image/png": "[encoded data removed]",
      "text/plain": [
       "<Figure size 640x480 with 1 Axes>"
      ]
     },
     "metadata": {},
     "output_type": "display_data"
    }
   ],
   "source": [
    "sns.histplot(x='price', data=df2, hue='fuel_type', kde=True)"
   ]
  },
  {
   "cell_type": "code",
   "execution_count": 27,
   "id": "ab089812",
   "metadata": {},
   "outputs": [],
   "source": [
    "#From the plots above, we can find a lot of specifics about the fuel types\n",
    "#For example, the gas cars have lengths mainly between 170-180\n",
    "#Same for the diesel as well\n",
    "\n",
    "#Gas cars mainly have an engine size between 100-125 units\n",
    "#While diesel cars tend to have a size between 140-155 units\n",
    "\n",
    "#For price, we can see for gas the graph is heavily left skewed,\n",
    "#meaning most gas cars are on the cheaper spectrum. However, we can also\n",
    "#see that are a few expensive cars as well.\n",
    "#Diesel seems to be skewed all over the place, meaning it's price varies\n",
    "#greatly."
   ]
  },
  {
   "cell_type": "code",
   "execution_count": 28,
   "id": "8c8d4536",
   "metadata": {},
   "outputs": [
    {
     "data": {
      "text/html": [
       "<div>\n",
       "<style scoped>\n",
       "    .dataframe tbody tr th:only-of-type {\n",
       "        vertical-align: middle;\n",
       "    }\n",
       "\n",
       "    .dataframe tbody tr th {\n",
       "        vertical-align: top;\n",
       "    }\n",
       "\n",
       "    .dataframe thead th {\n",
       "        text-align: right;\n",
       "    }\n",
       "</style>\n",
       "<table border=\"1\" class=\"dataframe\">\n",
       "  <thead>\n",
       "    <tr style=\"text-align: right;\">\n",
       "      <th></th>\n",
       "      <th>fuel_type</th>\n",
       "      <th>wheel_base</th>\n",
       "      <th>length</th>\n",
       "      <th>width</th>\n",
       "      <th>heights</th>\n",
       "      <th>curb_weight</th>\n",
       "      <th>engine_size</th>\n",
       "      <th>bore</th>\n",
       "      <th>stroke</th>\n",
       "      <th>comprassion</th>\n",
       "      <th>horse_power</th>\n",
       "      <th>peak_rpm</th>\n",
       "      <th>city_mpg</th>\n",
       "      <th>highway_mpg</th>\n",
       "      <th>price</th>\n",
       "    </tr>\n",
       "  </thead>\n",
       "  <tbody>\n",
       "    <tr>\n",
       "      <th>fuel_type</th>\n",
       "      <td>1.000000</td>\n",
       "      <td>-0.303643</td>\n",
       "      <td>-0.210618</td>\n",
       "      <td>-0.245375</td>\n",
       "      <td>-0.279070</td>\n",
       "      <td>-0.219488</td>\n",
       "      <td>-0.063490</td>\n",
       "      <td>-0.056245</td>\n",
       "      <td>-0.253774</td>\n",
       "      <td>-0.985398</td>\n",
       "      <td>0.168454</td>\n",
       "      <td>0.480952</td>\n",
       "      <td>-0.260796</td>\n",
       "      <td>-0.193998</td>\n",
       "      <td>-0.108968</td>\n",
       "    </tr>\n",
       "    <tr>\n",
       "      <th>wheel_base</th>\n",
       "      <td>-0.303643</td>\n",
       "      <td>1.000000</td>\n",
       "      <td>0.879222</td>\n",
       "      <td>0.819009</td>\n",
       "      <td>0.592500</td>\n",
       "      <td>0.782720</td>\n",
       "      <td>0.569704</td>\n",
       "      <td>0.498228</td>\n",
       "      <td>0.171722</td>\n",
       "      <td>0.247730</td>\n",
       "      <td>0.375541</td>\n",
       "      <td>-0.352331</td>\n",
       "      <td>-0.499126</td>\n",
       "      <td>-0.566355</td>\n",
       "      <td>0.585793</td>\n",
       "    </tr>\n",
       "    <tr>\n",
       "      <th>length</th>\n",
       "      <td>-0.210618</td>\n",
       "      <td>0.879222</td>\n",
       "      <td>1.000000</td>\n",
       "      <td>0.858084</td>\n",
       "      <td>0.496218</td>\n",
       "      <td>0.881665</td>\n",
       "      <td>0.687479</td>\n",
       "      <td>0.609437</td>\n",
       "      <td>0.118664</td>\n",
       "      <td>0.160172</td>\n",
       "      <td>0.583813</td>\n",
       "      <td>-0.280986</td>\n",
       "      <td>-0.689660</td>\n",
       "      <td>-0.719324</td>\n",
       "      <td>0.695331</td>\n",
       "    </tr>\n",
       "    <tr>\n",
       "      <th>width</th>\n",
       "      <td>-0.245375</td>\n",
       "      <td>0.819009</td>\n",
       "      <td>0.858084</td>\n",
       "      <td>1.000000</td>\n",
       "      <td>0.315834</td>\n",
       "      <td>0.867315</td>\n",
       "      <td>0.740320</td>\n",
       "      <td>0.544311</td>\n",
       "      <td>0.186432</td>\n",
       "      <td>0.190997</td>\n",
       "      <td>0.616779</td>\n",
       "      <td>-0.251627</td>\n",
       "      <td>-0.647099</td>\n",
       "      <td>-0.692220</td>\n",
       "      <td>0.754273</td>\n",
       "    </tr>\n",
       "    <tr>\n",
       "      <th>heights</th>\n",
       "      <td>-0.279070</td>\n",
       "      <td>0.592500</td>\n",
       "      <td>0.496218</td>\n",
       "      <td>0.315834</td>\n",
       "      <td>1.000000</td>\n",
       "      <td>0.307732</td>\n",
       "      <td>0.031286</td>\n",
       "      <td>0.189283</td>\n",
       "      <td>-0.055525</td>\n",
       "      <td>0.261160</td>\n",
       "      <td>-0.084412</td>\n",
       "      <td>-0.264078</td>\n",
       "      <td>-0.102367</td>\n",
       "      <td>-0.151188</td>\n",
       "      <td>0.138291</td>\n",
       "    </tr>\n",
       "    <tr>\n",
       "      <th>curb_weight</th>\n",
       "      <td>-0.219488</td>\n",
       "      <td>0.782720</td>\n",
       "      <td>0.881665</td>\n",
       "      <td>0.867315</td>\n",
       "      <td>0.307732</td>\n",
       "      <td>1.000000</td>\n",
       "      <td>0.857573</td>\n",
       "      <td>0.645806</td>\n",
       "      <td>0.172785</td>\n",
       "      <td>0.155382</td>\n",
       "      <td>0.760285</td>\n",
       "      <td>-0.278944</td>\n",
       "      <td>-0.772171</td>\n",
       "      <td>-0.812710</td>\n",
       "      <td>0.835729</td>\n",
       "    </tr>\n",
       "    <tr>\n",
       "      <th>engine_size</th>\n",
       "      <td>-0.063490</td>\n",
       "      <td>0.569704</td>\n",
       "      <td>0.687479</td>\n",
       "      <td>0.740320</td>\n",
       "      <td>0.031286</td>\n",
       "      <td>0.857573</td>\n",
       "      <td>1.000000</td>\n",
       "      <td>0.583091</td>\n",
       "      <td>0.211989</td>\n",
       "      <td>0.024617</td>\n",
       "      <td>0.842691</td>\n",
       "      <td>-0.219008</td>\n",
       "      <td>-0.710624</td>\n",
       "      <td>-0.732138</td>\n",
       "      <td>0.888942</td>\n",
       "    </tr>\n",
       "    <tr>\n",
       "      <th>bore</th>\n",
       "      <td>-0.056245</td>\n",
       "      <td>0.498228</td>\n",
       "      <td>0.609437</td>\n",
       "      <td>0.544311</td>\n",
       "      <td>0.189283</td>\n",
       "      <td>0.645806</td>\n",
       "      <td>0.583091</td>\n",
       "      <td>1.000000</td>\n",
       "      <td>-0.066793</td>\n",
       "      <td>0.003057</td>\n",
       "      <td>0.568527</td>\n",
       "      <td>-0.277662</td>\n",
       "      <td>-0.591950</td>\n",
       "      <td>-0.600040</td>\n",
       "      <td>0.546873</td>\n",
       "    </tr>\n",
       "    <tr>\n",
       "      <th>stroke</th>\n",
       "      <td>-0.253774</td>\n",
       "      <td>0.171722</td>\n",
       "      <td>0.118664</td>\n",
       "      <td>0.186432</td>\n",
       "      <td>-0.055525</td>\n",
       "      <td>0.172785</td>\n",
       "      <td>0.211989</td>\n",
       "      <td>-0.066793</td>\n",
       "      <td>1.000000</td>\n",
       "      <td>0.199882</td>\n",
       "      <td>0.100040</td>\n",
       "      <td>-0.068300</td>\n",
       "      <td>-0.027641</td>\n",
       "      <td>-0.036453</td>\n",
       "      <td>0.093746</td>\n",
       "    </tr>\n",
       "    <tr>\n",
       "      <th>comprassion</th>\n",
       "      <td>-0.985398</td>\n",
       "      <td>0.247730</td>\n",
       "      <td>0.160172</td>\n",
       "      <td>0.190997</td>\n",
       "      <td>0.261160</td>\n",
       "      <td>0.155382</td>\n",
       "      <td>0.024617</td>\n",
       "      <td>0.003057</td>\n",
       "      <td>0.199882</td>\n",
       "      <td>1.000000</td>\n",
       "      <td>-0.214401</td>\n",
       "      <td>-0.444582</td>\n",
       "      <td>0.331413</td>\n",
       "      <td>0.267941</td>\n",
       "      <td>0.069500</td>\n",
       "    </tr>\n",
       "    <tr>\n",
       "      <th>horse_power</th>\n",
       "      <td>0.168454</td>\n",
       "      <td>0.375541</td>\n",
       "      <td>0.583813</td>\n",
       "      <td>0.616779</td>\n",
       "      <td>-0.084412</td>\n",
       "      <td>0.760285</td>\n",
       "      <td>0.842691</td>\n",
       "      <td>0.568527</td>\n",
       "      <td>0.100040</td>\n",
       "      <td>-0.214401</td>\n",
       "      <td>1.000000</td>\n",
       "      <td>0.105654</td>\n",
       "      <td>-0.834117</td>\n",
       "      <td>-0.812917</td>\n",
       "      <td>0.811027</td>\n",
       "    </tr>\n",
       "    <tr>\n",
       "      <th>peak_rpm</th>\n",
       "      <td>0.480952</td>\n",
       "      <td>-0.352331</td>\n",
       "      <td>-0.280986</td>\n",
       "      <td>-0.251627</td>\n",
       "      <td>-0.264078</td>\n",
       "      <td>-0.278944</td>\n",
       "      <td>-0.219008</td>\n",
       "      <td>-0.277662</td>\n",
       "      <td>-0.068300</td>\n",
       "      <td>-0.444582</td>\n",
       "      <td>0.105654</td>\n",
       "      <td>1.000000</td>\n",
       "      <td>-0.069493</td>\n",
       "      <td>-0.016950</td>\n",
       "      <td>-0.104333</td>\n",
       "    </tr>\n",
       "    <tr>\n",
       "      <th>city_mpg</th>\n",
       "      <td>-0.260796</td>\n",
       "      <td>-0.499126</td>\n",
       "      <td>-0.689660</td>\n",
       "      <td>-0.647099</td>\n",
       "      <td>-0.102367</td>\n",
       "      <td>-0.772171</td>\n",
       "      <td>-0.710624</td>\n",
       "      <td>-0.591950</td>\n",
       "      <td>-0.027641</td>\n",
       "      <td>0.331413</td>\n",
       "      <td>-0.834117</td>\n",
       "      <td>-0.069493</td>\n",
       "      <td>1.000000</td>\n",
       "      <td>0.972350</td>\n",
       "      <td>-0.702685</td>\n",
       "    </tr>\n",
       "    <tr>\n",
       "      <th>highway_mpg</th>\n",
       "      <td>-0.193998</td>\n",
       "      <td>-0.566355</td>\n",
       "      <td>-0.719324</td>\n",
       "      <td>-0.692220</td>\n",
       "      <td>-0.151188</td>\n",
       "      <td>-0.812710</td>\n",
       "      <td>-0.732138</td>\n",
       "      <td>-0.600040</td>\n",
       "      <td>-0.036453</td>\n",
       "      <td>0.267941</td>\n",
       "      <td>-0.812917</td>\n",
       "      <td>-0.016950</td>\n",
       "      <td>0.972350</td>\n",
       "      <td>1.000000</td>\n",
       "      <td>-0.715590</td>\n",
       "    </tr>\n",
       "    <tr>\n",
       "      <th>price</th>\n",
       "      <td>-0.108968</td>\n",
       "      <td>0.585793</td>\n",
       "      <td>0.695331</td>\n",
       "      <td>0.754273</td>\n",
       "      <td>0.138291</td>\n",
       "      <td>0.835729</td>\n",
       "      <td>0.888942</td>\n",
       "      <td>0.546873</td>\n",
       "      <td>0.093746</td>\n",
       "      <td>0.069500</td>\n",
       "      <td>0.811027</td>\n",
       "      <td>-0.104333</td>\n",
       "      <td>-0.702685</td>\n",
       "      <td>-0.715590</td>\n",
       "      <td>1.000000</td>\n",
       "    </tr>\n",
       "  </tbody>\n",
       "</table>\n",
       "</div>"
      ],
      "text/plain": [
       "             fuel_type  wheel_base    length     width   heights  curb_weight  \\\n",
       "fuel_type     1.000000   -0.303643 -0.210618 -0.245375 -0.279070    -0.219488   \n",
       "wheel_base   -0.303643    1.000000  0.879222  0.819009  0.592500     0.782720   \n",
       "length       -0.210618    0.879222  1.000000  0.858084  0.496218     0.881665   \n",
       "width        -0.245375    0.819009  0.858084  1.000000  0.315834     0.867315   \n",
       "heights      -0.279070    0.592500  0.496218  0.315834  1.000000     0.307732   \n",
       "curb_weight  -0.219488    0.782720  0.881665  0.867315  0.307732     1.000000   \n",
       "engine_size  -0.063490    0.569704  0.687479  0.740320  0.031286     0.857573   \n",
       "bore         -0.056245    0.498228  0.609437  0.544311  0.189283     0.645806   \n",
       "stroke       -0.253774    0.171722  0.118664  0.186432 -0.055525     0.172785   \n",
       "comprassion  -0.985398    0.247730  0.160172  0.190997  0.261160     0.155382   \n",
       "horse_power   0.168454    0.375541  0.583813  0.616779 -0.084412     0.760285   \n",
       "peak_rpm      0.480952   -0.352331 -0.280986 -0.251627 -0.264078    -0.278944   \n",
       "city_mpg     -0.260796   -0.499126 -0.689660 -0.647099 -0.102367    -0.772171   \n",
       "highway_mpg  -0.193998   -0.566355 -0.719324 -0.692220 -0.151188    -0.812710   \n",
       "price        -0.108968    0.585793  0.695331  0.754273  0.138291     0.835729   \n",
       "\n",
       "             engine_size      bore    stroke  comprassion  horse_power  \\\n",
       "fuel_type      -0.063490 -0.056245 -0.253774    -0.985398     0.168454   \n",
       "wheel_base      0.569704  0.498228  0.171722     0.247730     0.375541   \n",
       "length          0.687479  0.609437  0.118664     0.160172     0.583813   \n",
       "width           0.740320  0.544311  0.186432     0.190997     0.616779   \n",
       "heights         0.031286  0.189283 -0.055525     0.261160    -0.084412   \n",
       "curb_weight     0.857573  0.645806  0.172785     0.155382     0.760285   \n",
       "engine_size     1.000000  0.583091  0.211989     0.024617     0.842691   \n",
       "bore            0.583091  1.000000 -0.066793     0.003057     0.568527   \n",
       "stroke          0.211989 -0.066793  1.000000     0.199882     0.100040   \n",
       "comprassion     0.024617  0.003057  0.199882     1.000000    -0.214401   \n",
       "horse_power     0.842691  0.568527  0.100040    -0.214401     1.000000   \n",
       "peak_rpm       -0.219008 -0.277662 -0.068300    -0.444582     0.105654   \n",
       "city_mpg       -0.710624 -0.591950 -0.027641     0.331413    -0.834117   \n",
       "highway_mpg    -0.732138 -0.600040 -0.036453     0.267941    -0.812917   \n",
       "price           0.888942  0.546873  0.093746     0.069500     0.811027   \n",
       "\n",
       "             peak_rpm  city_mpg  highway_mpg     price  \n",
       "fuel_type    0.480952 -0.260796    -0.193998 -0.108968  \n",
       "wheel_base  -0.352331 -0.499126    -0.566355  0.585793  \n",
       "length      -0.280986 -0.689660    -0.719324  0.695331  \n",
       "width       -0.251627 -0.647099    -0.692220  0.754273  \n",
       "heights     -0.264078 -0.102367    -0.151188  0.138291  \n",
       "curb_weight -0.278944 -0.772171    -0.812710  0.835729  \n",
       "engine_size -0.219008 -0.710624    -0.732138  0.888942  \n",
       "bore        -0.277662 -0.591950    -0.600040  0.546873  \n",
       "stroke      -0.068300 -0.027641    -0.036453  0.093746  \n",
       "comprassion -0.444582  0.331413     0.267941  0.069500  \n",
       "horse_power  0.105654 -0.834117    -0.812917  0.811027  \n",
       "peak_rpm     1.000000 -0.069493    -0.016950 -0.104333  \n",
       "city_mpg    -0.069493  1.000000     0.972350 -0.702685  \n",
       "highway_mpg -0.016950  0.972350     1.000000 -0.715590  \n",
       "price       -0.104333 -0.702685    -0.715590  1.000000  "
      ]
     },
     "execution_count": 28,
     "metadata": {},
     "output_type": "execute_result"
    }
   ],
   "source": [
    "#4 Identify Significant Correlation\n",
    "df2.corr(method=\"pearson\")"
   ]
  },
  {
   "cell_type": "code",
   "execution_count": 29,
   "id": "d7727cc3",
   "metadata": {},
   "outputs": [],
   "source": [
    "#There appears to be significant correlation between \n",
    "#length/width and wheel_base\n",
    "#length/width and curb_weight\n",
    "#engine_size and horse_power\n",
    "#engine_size and price\n",
    "#and some correlation between \n",
    "#horse_power and price\n",
    "#curb_weight and price"
   ]
  },
  {
   "cell_type": "code",
   "execution_count": 30,
   "id": "9fc1bffb",
   "metadata": {},
   "outputs": [
    {
     "data": {
      "text/plain": [
       "<Axes: xlabel='fuel_type', ylabel='engine_size'>"
      ]
     },
     "execution_count": 30,
     "metadata": {},
     "output_type": "execute_result"
    },
    {
     "data": {
      "image/png": "[encoded data removed]",
      "text/plain": [
       "<Figure size 640x480 with 1 Axes>"
      ]
     },
     "metadata": {},
     "output_type": "display_data"
    }
   ],
   "source": [
    "#5 Detect and Handle Outliers\n",
    "sns.boxplot(x=\"fuel_type\", y=\"engine_size\", data=df2)"
   ]
  },
  {
   "cell_type": "code",
   "execution_count": 31,
   "id": "76563962",
   "metadata": {},
   "outputs": [
    {
     "data": {
      "text/plain": [
       "<Axes: xlabel='fuel_type', ylabel='length'>"
      ]
     },
     "execution_count": 31,
     "metadata": {},
     "output_type": "execute_result"
    },
    {
     "data": {
      "image/png": "[encoded data removed]",
      "text/plain": [
       "<Figure size 640x480 with 1 Axes>"
      ]
     },
     "metadata": {},
     "output_type": "display_data"
    }
   ],
   "source": [
    "sns.boxplot(x=\"fuel_type\", y=\"length\", data=df2)"
   ]
  },
  {
   "cell_type": "code",
   "execution_count": 32,
   "id": "d97b8b22",
   "metadata": {},
   "outputs": [
    {
     "data": {
      "text/plain": [
       "<Axes: xlabel='fuel_type', ylabel='wheel_base'>"
      ]
     },
     "execution_count": 32,
     "metadata": {},
     "output_type": "execute_result"
    },
    {
     "data": {
      "image/png": "[encoded data removed]",
      "text/plain": [
       "<Figure size 640x480 with 1 Axes>"
      ]
     },
     "metadata": {},
     "output_type": "display_data"
    }
   ],
   "source": [
    "sns.boxplot(x=\"fuel_type\", y=\"wheel_base\", data=df2)"
   ]
  },
  {
   "cell_type": "code",
   "execution_count": 33,
   "id": "dcb4335a",
   "metadata": {},
   "outputs": [],
   "source": [
    "#looking at the box plots between the fuel_types,we can see diesel has\n",
    "#no outliers while gas appears to have many\n",
    "\n",
    "#This could be due to the fact that we have a larger sample size of gas cars,\n",
    "#and the outliers are simply just luxurious cars that dont fit into the\n",
    "#population"
   ]
  },
  {
   "cell_type": "code",
   "execution_count": 34,
   "id": "a1537a8a",
   "metadata": {},
   "outputs": [
    {
     "data": {
      "text/plain": [
       "<Axes: ylabel='length'>"
      ]
     },
     "execution_count": 34,
     "metadata": {},
     "output_type": "execute_result"
    },
    {
     "data": {
      "image/png": "[encoded data removed]",
      "text/plain": [
       "<Figure size 640x480 with 1 Axes>"
      ]
     },
     "metadata": {},
     "output_type": "display_data"
    }
   ],
   "source": [
    "sns.boxplot(y=\"length\", data=df2)"
   ]
  },
  {
   "cell_type": "code",
   "execution_count": 35,
   "id": "ba5d3045",
   "metadata": {},
   "outputs": [
    {
     "data": {
      "text/plain": [
       "<Axes: ylabel='engine_size'>"
      ]
     },
     "execution_count": 35,
     "metadata": {},
     "output_type": "execute_result"
    },
    {
     "data": {
      "image/png": "[encoded data removed]",
      "text/plain": [
       "<Figure size 640x480 with 1 Axes>"
      ]
     },
     "metadata": {},
     "output_type": "display_data"
    }
   ],
   "source": [
    "sns.boxplot(y=\"engine_size\", data=df2)"
   ]
  },
  {
   "cell_type": "code",
   "execution_count": 36,
   "id": "ed2655ff",
   "metadata": {},
   "outputs": [
    {
     "data": {
      "text/plain": [
       "<Axes: ylabel='wheel_base'>"
      ]
     },
     "execution_count": 36,
     "metadata": {},
     "output_type": "execute_result"
    },
    {
     "data": {
      "image/png": "[encoded data removed]",
      "text/plain": [
       "<Figure size 640x480 with 1 Axes>"
      ]
     },
     "metadata": {},
     "output_type": "display_data"
    }
   ],
   "source": [
    "sns.boxplot(y=\"wheel_base\", data=df2)"
   ]
  },
  {
   "cell_type": "code",
   "execution_count": 37,
   "id": "79feb728",
   "metadata": {},
   "outputs": [
    {
     "data": {
      "text/plain": [
       "<Axes: ylabel='horse_power'>"
      ]
     },
     "execution_count": 37,
     "metadata": {},
     "output_type": "execute_result"
    },
    {
     "data": {
      "image/png": "[encoded data removed]",
      "text/plain": [
       "<Figure size 640x480 with 1 Axes>"
      ]
     },
     "metadata": {},
     "output_type": "display_data"
    }
   ],
   "source": [
    "sns.boxplot(y=\"horse_power\", data=df2)"
   ]
  },
  {
   "cell_type": "code",
   "execution_count": 38,
   "id": "d54381fe",
   "metadata": {},
   "outputs": [],
   "source": [
    "#Besides the length of every car regardless of fuel_type,\n",
    "#we can see there are many outliers in the graphs. \n",
    "#This can be due to our previous statement, where there are luxurious \n",
    "#cars being outliers in our data set\n"
   ]
  },
  {
   "cell_type": "code",
   "execution_count": 39,
   "id": "c62d939f",
   "metadata": {},
   "outputs": [
    {
     "name": "stdout",
     "output_type": "stream",
     "text": [
      "Q1 = 94.5\n",
      "Q3 = 102.4\n",
      "IQR = 7.900000000000006\n",
      "Upper fence = 114.25000000000001\n"
     ]
    }
   ],
   "source": [
    "#Find quartiles of data\n",
    "Q1 = df2['wheel_base'].quantile(0.25)\n",
    "Q3 = df2['wheel_base'].quantile(0.75)\n",
    "print(\"Q1 = \" + str(Q1))\n",
    "print(\"Q3 = \" + str(Q3))\n",
    "IQR = Q3-Q1\n",
    "print(\"IQR = \" + str(IQR))\n",
    "u_fence = Q3 + (1.5 * IQR)\n",
    "print(\"Upper fence = \" + str(u_fence))"
   ]
  },
  {
   "cell_type": "code",
   "execution_count": 40,
   "id": "aab05d91",
   "metadata": {},
   "outputs": [
    {
     "data": {
      "text/plain": [
       "<Axes: ylabel='wheel_base'>"
      ]
     },
     "execution_count": 40,
     "metadata": {},
     "output_type": "execute_result"
    },
    {
     "data": {
      "image/png": "[encoded data removed]",
      "text/plain": [
       "<Figure size 640x480 with 1 Axes>"
      ]
     },
     "metadata": {},
     "output_type": "display_data"
    }
   ],
   "source": [
    "#Find outliers above upper fence\n",
    "df2_wb_filtered = df2[df2['wheel_base'] >= u_fence]\n",
    "sns.boxplot(y=\"wheel_base\", data=df2_wb_filtered)"
   ]
  },
  {
   "cell_type": "markdown",
   "id": "77fabed2",
   "metadata": {},
   "source": [
    "## 2. Multiple Regression Analysis"
   ]
  },
  {
   "cell_type": "markdown",
   "id": "f56943b0",
   "metadata": {},
   "source": [
    "**1. Create a model that uses all the variables** and call it **model1**. The dependent variable is price, the independent variables are all the rest. Print out a summary of the model (coefficents, stanrard errors, confidence intervals and other metrics shown in class and answer the quesions based on your output."
   ]
  },
  {
   "cell_type": "code",
   "execution_count": 131,
   "id": "680d7827",
   "metadata": {},
   "outputs": [
    {
     "name": "stdout",
     "output_type": "stream",
     "text": [
      "                            OLS Regression Results                            \n",
      "==============================================================================\n",
      "Dep. Variable:                  price   R-squared:                       0.860\n",
      "Model:                            OLS   Adj. R-squared:                  0.849\n",
      "Method:                 Least Squares   F-statistic:                     78.89\n",
      "Date:                Wed, 08 Mar 2023   Prob (F-statistic):           5.84e-69\n",
      "Time:                        13:26:49   Log-Likelihood:                -1838.5\n",
      "No. Observations:                 195   AIC:                             3707.\n",
      "Df Residuals:                     180   BIC:                             3756.\n",
      "Df Model:                          14                                         \n",
      "Covariance Type:            nonrobust                                         \n",
      "===============================================================================\n",
      "                  coef    std err          t      P>|t|      [0.025      0.975]\n",
      "-------------------------------------------------------------------------------\n",
      "Intercept    -4.45e+04   1.84e+04     -2.419      0.017   -8.08e+04   -8194.301\n",
      "fuel_type   -1.173e+04   6002.268     -1.955      0.052   -2.36e+04     110.854\n",
      "wheel_base     39.5305    103.549      0.382      0.703    -164.796     243.857\n",
      "length        -60.6333     58.500     -1.036      0.301    -176.068      54.801\n",
      "width         603.6414    254.539      2.372      0.019     101.377    1105.906\n",
      "heights       329.5669    140.947      2.338      0.020      51.446     607.688\n",
      "curb_weight     1.1798      1.738      0.679      0.498      -2.249       4.609\n",
      "engine_size   138.4537     16.111      8.594      0.000     106.662     170.245\n",
      "bore        -1208.4137   1206.683     -1.001      0.318   -3589.479    1172.651\n",
      "stroke      -3706.0531    874.513     -4.238      0.000   -5431.669   -1980.437\n",
      "comprassion  -617.1497    446.452     -1.382      0.169   -1498.103     263.804\n",
      "horse_power    34.6328     18.049      1.919      0.057      -0.982      70.248\n",
      "peak_rpm        2.5517      0.709      3.599      0.000       1.153       3.951\n",
      "city_mpg     -288.2868    180.791     -1.595      0.113    -645.030      68.456\n",
      "highway_mpg   316.6334    163.540      1.936      0.054      -6.069     639.336\n",
      "==============================================================================\n",
      "Omnibus:                       18.136   Durbin-Watson:                   0.978\n",
      "Prob(Omnibus):                  0.000   Jarque-Bera (JB):               55.211\n",
      "Skew:                           0.240   Prob(JB):                     1.03e-12\n",
      "Kurtosis:                       5.562   Cond. No.                     4.77e+05\n",
      "==============================================================================\n",
      "\n",
      "Notes:\n",
      "[1] Standard Errors assume that the covariance matrix of the errors is correctly specified.\n",
      "[2] The condition number is large, 4.77e+05. This might indicate that there are\n",
      "strong multicollinearity or other numerical problems.\n"
     ]
    }
   ],
   "source": [
    "##Your code goes here\n",
    "x = df2.drop('price', axis=1)\n",
    "y = df2['price']\n",
    "model1 = ols(formula='price ~ fuel_type+wheel_base+length+width+heights+curb_weight+engine_size+bore+stroke+comprassion+horse_power+peak_rpm+city_mpg+highway_mpg', data=df2).fit()\n",
    "print(model1.summary())"
   ]
  },
  {
   "cell_type": "code",
   "execution_count": 105,
   "id": "141b5ac0",
   "metadata": {},
   "outputs": [
    {
     "name": "stdout",
     "output_type": "stream",
     "text": [
      "Confidence intervals:\n",
      "                        0             1\n",
      "Intercept   -74919.484963 -14079.503672\n",
      "fuel_type   -21656.934603  -1809.077930\n",
      "wheel_base    -131.674276    210.735300\n",
      "length        -157.355464     36.088900\n",
      "width          182.795801   1024.486918\n",
      "heights         96.530236    562.603582\n",
      "curb_weight     -1.693057      4.052748\n",
      "engine_size    111.815672    165.091659\n",
      "bore         -3203.499374    786.672056\n",
      "stroke       -5151.940648  -2260.165516\n",
      "comprassion  -1355.297323    120.997885\n",
      "horse_power      4.791122     64.474527\n",
      "peak_rpm         1.379439      3.723907\n",
      "city_mpg      -587.200631     10.627092\n",
      "highway_mpg     46.242008    587.024849\n"
     ]
    }
   ],
   "source": [
    "#t-test with 90% confidence\n",
    "cis = []\n",
    "print(\"Confidence intervals:\")\n",
    "print(model1.conf_int( .10, None))\n"
   ]
  },
  {
   "cell_type": "code",
   "execution_count": 117,
   "id": "4e8afd41",
   "metadata": {},
   "outputs": [
    {
     "name": "stdout",
     "output_type": "stream",
     "text": [
      "48.55585457279444\n"
     ]
    }
   ],
   "source": [
    "SSE = model1.bse[1:15].sum()\n",
    "variance = SSE/(len(x['fuel_type'] - (len(x.columns)+1)))\n",
    "print(variance)"
   ]
  },
  {
   "cell_type": "markdown",
   "id": "e0f4ad5e",
   "metadata": {},
   "source": [
    "1. How do you interpret the intercept?\n",
    "2. How many variables are statistically significant?\n",
    "3. What is the variance of the model?\n",
    "4. What is the coefficeint of determination and how do you interpret it?\n",
    "5. What is the F-statistics used for? How do you interpret it for this model?"
   ]
  },
  {
   "cell_type": "markdown",
   "id": "60906369",
   "metadata": {},
   "source": [
    "#### Your answers to the questions above go here\n",
    "\n",
    "1. When all explanatory variables are at 0, then the price will be at really low\n",
    "\n",
    "2. Significant variables that have a p-value < 5% are width, heights, engine_size, stroke, and peak_rpm. (5)\n",
    "\n",
    "3.Var = 48.56\n",
    "\n",
    "4.R-squared = .860, which is the percent explained by the independent variable\n",
    "\n",
    "5. F-statistic is used to test if a set of variables are significant in a data set. \n"
   ]
  },
  {
   "cell_type": "markdown",
   "id": "2f6bde01",
   "metadata": {},
   "source": [
    "**2. Dropp all the variables that are not statistically significant** at least at 90% confidence level. Run another regression model with price as the dependent variable and the rest of the variables as the independent variabls. Call it **model2**. Print a summary of the results and answer the questions bellow. "
   ]
  },
  {
   "cell_type": "code",
   "execution_count": 132,
   "id": "2b75cc92",
   "metadata": {},
   "outputs": [
    {
     "name": "stdout",
     "output_type": "stream",
     "text": [
      "                            OLS Regression Results                            \n",
      "==============================================================================\n",
      "Dep. Variable:                  price   R-squared:                       0.839\n",
      "Model:                            OLS   Adj. R-squared:                  0.835\n",
      "Method:                 Least Squares   F-statistic:                     197.0\n",
      "Date:                Wed, 08 Mar 2023   Prob (F-statistic):           6.10e-73\n",
      "Time:                        13:26:58   Log-Likelihood:                -1852.0\n",
      "No. Observations:                 195   AIC:                             3716.\n",
      "Df Residuals:                     189   BIC:                             3736.\n",
      "Df Model:                           5                                         \n",
      "Covariance Type:            nonrobust                                         \n",
      "===============================================================================\n",
      "                  coef    std err          t      P>|t|      [0.025      0.975]\n",
      "-------------------------------------------------------------------------------\n",
      "Intercept   -7.285e+04   1.13e+04     -6.462      0.000   -9.51e+04   -5.06e+04\n",
      "width         725.2520    182.867      3.966      0.000     364.530    1085.974\n",
      "heights       277.6091    112.582      2.466      0.015      55.531     499.687\n",
      "engine_size   154.3579      8.994     17.161      0.000     136.615     172.100\n",
      "stroke      -2479.1624    770.699     -3.217      0.002   -3999.440    -958.885\n",
      "peak_rpm        2.2889      0.534      4.285      0.000       1.235       3.343\n",
      "==============================================================================\n",
      "Omnibus:                       29.026   Durbin-Watson:                   0.944\n",
      "Prob(Omnibus):                  0.000   Jarque-Bera (JB):               78.020\n",
      "Skew:                           0.604   Prob(JB):                     1.14e-17\n",
      "Kurtosis:                       5.854   Cond. No.                     2.46e+05\n",
      "==============================================================================\n",
      "\n",
      "Notes:\n",
      "[1] Standard Errors assume that the covariance matrix of the errors is correctly specified.\n",
      "[2] The condition number is large, 2.46e+05. This might indicate that there are\n",
      "strong multicollinearity or other numerical problems.\n"
     ]
    }
   ],
   "source": [
    "## your code goes here\n",
    "dfSS = df2.drop(['fuel_type','wheel_base','length','curb_weight','bore','comprassion','horse_power','city_mpg','highway_mpg'], axis=1)\n",
    "model2 = ols(formula='price ~ width + heights + engine_size + stroke + peak_rpm', data=dfSS).fit()\n",
    "print(model2.summary())"
   ]
  },
  {
   "cell_type": "code",
   "execution_count": 147,
   "id": "2ff33eec",
   "metadata": {},
   "outputs": [
    {
     "name": "stdout",
     "output_type": "stream",
     "text": [
      "Variance: 5.5162877594675095\n"
     ]
    }
   ],
   "source": [
    "SSE = model2.bse[1:6].sum()\n",
    "variance = SSE/(len(x['width'] - (len(x.columns)+1)))\n",
    "print(\"Variance: \" + str(variance))"
   ]
  },
  {
   "cell_type": "markdown",
   "id": "226123c0",
   "metadata": {},
   "source": [
    "1. How do you interpret the intercept?\n",
    "2. How many variables are statistically significant?\n",
    "3. What is the variance of the model?\n",
    "4. What is the coefficeint of determination and how do you interpret it? What is the Adjusted R-squared and compare it to the model1's value. \n",
    "5. What is the F-statistics used for? How do you interpret it for this model?"
   ]
  },
  {
   "cell_type": "markdown",
   "id": "827ba5e3",
   "metadata": {},
   "source": [
    "#### Your answers to the questions above go here\n",
    "\n",
    "1. When all explanatory variables are at 0, then the price will be low?\n",
    "\n",
    "2. Every variable is significant, with a p-value < .05\n",
    "\n",
    "3.Var = 5.52\n",
    "\n",
    "4.R-squared = 0.839, which is the percent explained by the independent variable\n",
    "Adjusted R-Squared= 0.835, while model1 is 0.849.\n",
    "\n",
    "5. F-statistic is used to test if a set of variables are significant in a data set.\n"
   ]
  },
  {
   "cell_type": "markdown",
   "id": "994a73f8",
   "metadata": {},
   "source": [
    "**3. Compare the two models with ANOVA**. What are your null and alternative hypothesis? What is your conclusion?"
   ]
  },
  {
   "cell_type": "code",
   "execution_count": 146,
   "id": "89ff4f32",
   "metadata": {},
   "outputs": [
    {
     "name": "stdout",
     "output_type": "stream",
     "text": [
      "Anova Model1\n",
      "                   sum_sq     df          F        PR(>F)\n",
      "fuel_type    3.745641e+07    1.0   3.821095  5.215992e-02\n",
      "wheel_base   1.428591e+06    1.0   0.145737  7.030934e-01\n",
      "length       1.053040e+07    1.0   1.074253  3.013772e-01\n",
      "width        5.512991e+07    1.0   5.624047  1.877178e-02\n",
      "heights      5.359367e+07    1.0   5.467328  2.047381e-02\n",
      "curb_weight  4.519427e+06    1.0   0.461047  4.980073e-01\n",
      "engine_size  7.239036e+08    1.0  73.848610  3.971695e-15\n",
      "bore         9.830666e+06    1.0   1.002870  3.179614e-01\n",
      "stroke       1.760472e+08    1.0  17.959352  3.599345e-05\n",
      "comprassion  1.873137e+07    1.0   1.910870  1.685795e-01\n",
      "horse_power  3.609138e+07    1.0   3.681841  5.659025e-02\n",
      "peak_rpm     1.269686e+08    1.0  12.952631  4.128052e-04\n",
      "city_mpg     2.492483e+07    1.0   2.542692  1.125601e-01\n",
      "highway_mpg  3.674536e+07    1.0   3.748557  5.441949e-02\n",
      "Residual     1.764456e+09  180.0        NaN           NaN\n",
      "\n",
      "Anova Model2\n",
      "                   sum_sq     df           F        PR(>F)\n",
      "width        1.687343e+08    1.0   15.729255  1.036368e-04\n",
      "heights      6.522713e+07    1.0    6.080412  1.456050e-02\n",
      "engine_size  3.159397e+09    1.0  294.516043  2.080415e-40\n",
      "stroke       1.110032e+08    1.0   10.347613  1.525312e-03\n",
      "peak_rpm     1.969954e+08    1.0   18.363728  2.904178e-05\n",
      "Residual     2.027482e+09  189.0         NaN           NaN\n"
     ]
    }
   ],
   "source": [
    "##your code goes here\n",
    "print(\"Anova Model1\")\n",
    "print(anova_lm(model1,typ=2))\n",
    "\n",
    "print(\"\\nAnova Model2\")\n",
    "print(anova_lm(model2,typ=2))\n"
   ]
  },
  {
   "cell_type": "markdown",
   "id": "65dbf4e5",
   "metadata": {},
   "source": [
    "**4.Checking the assumptions:**\n",
    "\n",
    "-What are the assumptions?\n",
    "\n",
    "-Do they hold?"
   ]
  },
  {
   "cell_type": "markdown",
   "id": "7c5b0bff",
   "metadata": {},
   "source": [
    "#### Your answers to the questions above go here\n",
    "\n",
    "\n",
    "."
   ]
  },
  {
   "cell_type": "markdown",
   "id": "6a1fa97f",
   "metadata": {},
   "source": [
    "**5. Is there Multicollinearity in your data?**"
   ]
  },
  {
   "cell_type": "code",
   "execution_count": 139,
   "id": "2df0526c",
   "metadata": {},
   "outputs": [],
   "source": [
    "##your code goes here"
   ]
  },
  {
   "cell_type": "markdown",
   "id": "c67bbd6c",
   "metadata": {},
   "source": [
    "#### Your answers to the questions above go here"
   ]
  },
  {
   "cell_type": "markdown",
   "id": "9e2d9715",
   "metadata": {},
   "source": [
    "# 3. Variable selection"
   ]
  },
  {
   "cell_type": "markdown",
   "id": "d3f2550f",
   "metadata": {},
   "source": [
    "In our class we covered three types of feature selection techniques. They were: \n",
    "1. Filter methods\n",
    "2. Wrapper methods\n",
    "3. Embedded methods"
   ]
  },
  {
   "cell_type": "markdown",
   "id": "40359443",
   "metadata": {},
   "source": [
    "Continue using the dataset 'auto_imports1.csv' from the previous sections. More specifically, use the version you created called **df2** where you already cleaned, dropped some of the variables and also created the dummy variables. Make sure that you import the needed libraries (you can find examples on canvas)"
   ]
  },
  {
   "cell_type": "markdown",
   "id": "597f2405",
   "metadata": {},
   "source": [
    "### 3.1. Filtered methods\n",
    "\n",
    "Choose one (you may do more, one is required) of the filtered methods to conduct variable selection. Report your findigs"
   ]
  },
  {
   "cell_type": "code",
   "execution_count": 140,
   "id": "f912af99",
   "metadata": {},
   "outputs": [],
   "source": [
    "from sklearn.feature_selection import SelectKBest\n",
    "from sklearn.feature_selection import chi2, f_regression\n",
    "from numpy import array "
   ]
  },
  {
   "cell_type": "code",
   "execution_count": 141,
   "id": "a0e4e84a",
   "metadata": {},
   "outputs": [
    {
     "name": "stdout",
     "output_type": "stream",
     "text": [
      "Original number of features: 14\n",
      "Reduced number of features: 2\n"
     ]
    }
   ],
   "source": [
    "X = df2.iloc[:, :-1]\n",
    "y = df2.iloc[:, -1]\n",
    "select = SelectKBest(chi2, k=2)\n",
    "z = select.fit_transform(X,y)\n",
    "# View results\n",
    "print('Original number of features:', X.shape[1])\n",
    "print('Reduced number of features:', z.shape[1])\n"
   ]
  },
  {
   "cell_type": "code",
   "execution_count": 142,
   "id": "31cd3034",
   "metadata": {},
   "outputs": [
    {
     "name": "stdout",
     "output_type": "stream",
     "text": [
      "All features:\n",
      "['wheel_base' 'length' 'width' 'heights' 'curb_weight' 'engine_size'\n",
      " 'bore' 'stroke' 'comprassion' 'horse_power' 'peak_rpm' 'city_mpg'\n",
      " 'highway_mpg' 'price']\n",
      "Selected best 2:\n",
      "['engine_size' 'city_mpg']\n"
     ]
    }
   ],
   "source": [
    "filter = select.get_support()\n",
    "features = array(df2.drop(['fuel_type'], axis = 1).columns)\n",
    "\n",
    "print(\"All features:\")\n",
    "print(features)\n",
    " \n",
    "print(\"Selected best 2:\")\n",
    "print(features[filter])"
   ]
  },
  {
   "cell_type": "code",
   "execution_count": 143,
   "id": "d736d47a",
   "metadata": {},
   "outputs": [],
   "source": [
    "#Now we know after doing chi-squared test between each feature and price, engine_size and city_mpg are best selected"
   ]
  },
  {
   "cell_type": "markdown",
   "id": "2af92432",
   "metadata": {},
   "source": [
    "### 3.2. Wrapper methods\n",
    "\n",
    "Choose one (you may do more, one is required) of the wrapper methods to conduct variable selection. Report your findigs."
   ]
  },
  {
   "cell_type": "code",
   "execution_count": 144,
   "id": "3480d70c",
   "metadata": {},
   "outputs": [
    {
     "name": "stdout",
     "output_type": "stream",
     "text": [
      "Features selected: ('width', 'engine_size')\n"
     ]
    }
   ],
   "source": [
    "#Foward Selection to find 2 best features\n",
    "from mlxtend.feature_selection import SequentialFeatureSelector as SFS\n",
    "\n",
    "sfs = SFS(LinearRegression(),\n",
    "          k_features=2,\n",
    "          forward=True,\n",
    "          floating=False,\n",
    "          scoring = 'r2',\n",
    "          cv = 0)\n",
    "sfs.fit(X,y)\n",
    "\n",
    "print(\"Features selected: \" + str(sfs.k_feature_names_))"
   ]
  },
  {
   "cell_type": "code",
   "execution_count": 145,
   "id": "9356bea8",
   "metadata": {},
   "outputs": [],
   "source": [
    "#Doing foward selection on our data, we select width and engine_size when tested with price"
   ]
  },
  {
   "cell_type": "markdown",
   "id": "c2fca0ec",
   "metadata": {},
   "source": [
    "### 3.3. Embedded methods\n",
    "\n",
    "Choose one (you may do more, one is required) of the embedded methods to conduct variable selection. Report your findigs."
   ]
  },
  {
   "cell_type": "code",
   "execution_count": 146,
   "id": "26ebfaf2",
   "metadata": {},
   "outputs": [
    {
     "name": "stdout",
     "output_type": "stream",
     "text": [
      "Train data shape of X = (146, 14) and Y = (146,) : \n",
      "Test data shape of X = (49, 14) and Y = (49,) : \n"
     ]
    }
   ],
   "source": [
    "x_train, x_test, y_train, y_test = train_test_split(\n",
    "    df2.iloc[:, :-1], df2.iloc[:, -1],\n",
    "    test_size = 0.25)\n",
    "\n",
    "print(\"Train data shape of X = % s and Y = % s : \"%(\n",
    "    x_train.shape, y_train.shape))\n",
    " \n",
    "print(\"Test data shape of X = % s and Y = % s : \"%(\n",
    "    x_test.shape, y_test.shape))\n",
    "\n"
   ]
  },
  {
   "cell_type": "code",
   "execution_count": 147,
   "id": "9d156955",
   "metadata": {},
   "outputs": [
    {
     "name": "stdout",
     "output_type": "stream",
     "text": [
      "Mean squared Error on test set :  5464694.311514594\n",
      "        Columns  Coefficient Estimate\n",
      "0     fuel_type         -14295.696980\n",
      "1    wheel_base             58.336253\n",
      "2        length            -31.295811\n",
      "3         width            711.996316\n",
      "4       heights            342.806669\n",
      "5   curb_weight              0.103799\n",
      "6   engine_size            137.750570\n",
      "7          bore          -2090.391162\n",
      "8        stroke          -4587.520946\n",
      "9   comprassion           -843.282281\n",
      "10  horse_power             47.169155\n",
      "11     peak_rpm              2.700314\n",
      "12     city_mpg           -146.054152\n",
      "13  highway_mpg            231.629835\n"
     ]
    }
   ],
   "source": [
    "# Apply multiple Linear Regression Model\n",
    "lreg = LinearRegression()\n",
    "lreg.fit(x_train, y_train)\n",
    " \n",
    "# Generate Prediction on test set\n",
    "lreg_y_pred = lreg.predict(x_test)\n",
    " \n",
    "# calculating Mean Squared Error (mse)\n",
    "mean_squared_error = np.mean((lreg_y_pred - y_test)**2)\n",
    "print(\"Mean squared Error on test set : \", mean_squared_error)\n",
    " \n",
    "# Putting together the coefficient and their corresponding variable names\n",
    "lreg_coefficient = pd.DataFrame()\n",
    "lreg_coefficient[\"Columns\"] = x_train.columns\n",
    "lreg_coefficient['Coefficient Estimate'] = pd.Series(lreg.coef_)\n",
    "print(lreg_coefficient)"
   ]
  },
  {
   "cell_type": "code",
   "execution_count": null,
   "id": "4a3be379",
   "metadata": {},
   "outputs": [],
   "source": [
    "#From the output above we can see there are some features that play little to no \n",
    "#significance in our data\n",
    "#Such as curb_weight and peak_rpm"
   ]
  },
  {
   "cell_type": "code",
   "execution_count": 156,
   "id": "cf7075fc",
   "metadata": {},
   "outputs": [
    {
     "name": "stdout",
     "output_type": "stream",
     "text": [
      "mean square error: 5043135.755419434\n",
      "        Columns  Coefficient Estimate\n",
      "0     fuel_type          -2344.716155\n",
      "1    wheel_base             85.306758\n",
      "2        length            -77.340038\n",
      "3         width            765.268824\n",
      "4       heights            369.815016\n",
      "5   curb_weight              0.510037\n",
      "6   engine_size            126.604304\n",
      "7          bore          -1191.180478\n",
      "8        stroke          -3273.957375\n",
      "9   comprassion             34.429794\n",
      "10  horse_power             50.255406\n",
      "11     peak_rpm              2.330824\n",
      "12     city_mpg           -154.868507\n",
      "13  highway_mpg            182.594460\n"
     ]
    }
   ],
   "source": [
    "from sklearn.linear_model import Ridge\n",
    " \n",
    "# Train the model\n",
    "ridgeR = Ridge(alpha = 1)\n",
    "ridgeR.fit(x_train, y_train)\n",
    "y_pred = ridgeR.predict(x_test)\n",
    " \n",
    "# calculate mean square error\n",
    "mse_ridge = np.mean((y_pred - y_test)**2)\n",
    "print(\"mean square error: \" + str(mse_ridge))\n",
    "\n",
    "# get ridge coefficient and print them\n",
    "ridge_coefficient = pd.DataFrame()\n",
    "ridge_coefficient[\"Columns\"] = x_train.columns\n",
    "ridge_coefficient['Coefficient Estimate'] = pd.Series(ridgeR.coef_)\n",
    "print(ridge_coefficient)"
   ]
  },
  {
   "cell_type": "code",
   "execution_count": 157,
   "id": "e88b4f61",
   "metadata": {},
   "outputs": [
    {
     "data": {
      "image/png": "[encoded data removed]",
      "text/plain": [
       "<Figure size 2000x1000 with 1 Axes>"
      ]
     },
     "metadata": {},
     "output_type": "display_data"
    }
   ],
   "source": [
    "# plotting the coefficient score\n",
    "fig, ax = plt.subplots(figsize =(20, 10))\n",
    " \n",
    "color =['tab:gray', 'tab:blue', 'tab:orange',\n",
    "'tab:green', 'tab:red', 'tab:purple', 'tab:brown',\n",
    "'tab:pink', 'tab:gray', 'tab:olive', 'tab:cyan',\n",
    "'tab:orange', 'tab:green', 'tab:blue', 'tab:olive']\n",
    "\n",
    "ax.bar(ridge_coefficient[\"Columns\"],\n",
    "ridge_coefficient['Coefficient Estimate'],\n",
    "color = color)\n",
    "\n",
    "ax.spines['bottom'].set_position('zero')\n",
    "\n",
    "plt.style.use('ggplot')\n",
    "plt.show()"
   ]
  },
  {
   "cell_type": "markdown",
   "id": "d0ff7fee",
   "metadata": {},
   "source": [
    "### 3.4. Compare your results\n",
    "Compare your results from the three methods and also compare the coefficients to the full linear regression model (model1) from the previous homework."
   ]
  },
  {
   "cell_type": "code",
   "execution_count": null,
   "id": "e2c27bd2",
   "metadata": {},
   "outputs": [],
   "source": [
    "#Each method seemed to get us difference answers, probably\n",
    "#due to the different algorithms each method uses\n",
    "#Comparing the model1 coefficents to the Ridge Regression coefficients,\n",
    "#The values for both are close, although they may be scaled differently\n",
    "#they then to be in the same direction"
   ]
  },
  {
   "cell_type": "markdown",
   "id": "caeaf01d",
   "metadata": {},
   "source": [
    "### 3.5 Bonus question (*extra 5 points*)\n",
    "Reduce your features with PCA. Run a regression with the chosen number of PCA's, report your findings."
   ]
  },
  {
   "cell_type": "code",
   "execution_count": null,
   "id": "208eb710",
   "metadata": {},
   "outputs": [],
   "source": []
  }
 ],
 "metadata": {
  "kernelspec": {
   "display_name": "Python 3 (ipykernel)",
   "language": "python",
   "name": "python3"
  },
  "language_info": {
   "codemirror_mode": {
    "name": "ipython",
    "version": 3
   },
   "file_extension": ".py",
   "mimetype": "text/x-python",
   "name": "python",
   "nbconvert_exporter": "python",
   "pygments_lexer": "ipython3",
   "version": "3.10.1"
  }
 },
 "nbformat": 4,
 "nbformat_minor": 5
}
